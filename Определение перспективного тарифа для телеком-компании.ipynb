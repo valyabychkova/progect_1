{
 "cells": [
  {
   "cell_type": "markdown",
   "id": "9c756887",
   "metadata": {},
   "source": [
    "# Определение перспективного тарифа для телеком-компании"
   ]
  },
  {
   "cell_type": "markdown",
   "id": "3125d831",
   "metadata": {},
   "source": [
    "В нашем распоряжении есть данные о поведении клиентов телеком-компании, использующих два тарифа - \"Смарт\" и \"Ультра\", за несколько месяцев.\n",
    "Цель исследования - определить, какой из двух тарифов приносит компании больше денег, чтобы скорректрировать рекламный бюджет и продвигать полее прибыльный продукт.\n",
    "\n",
    "Описание тарифов:\n",
    "\n",
    "Тариф «Смарт»\n",
    "- Ежемесячная плата: 550 рублей\n",
    "- Включено 500 минут разговора, 50 сообщений и 15 Гб интернет-трафика\n",
    "- Стоимость услуг сверх тарифного пакета:\n",
    "- минута разговора: 3 рубля\n",
    "- сообщение: 3 рубля\n",
    "- 1 Гб интернет-трафика: 200 рублей\n",
    "\n",
    "Тариф «Ультра»\n",
    "- Ежемесячная плата: 1950 рублей\n",
    "- Включено 3000 минут разговора, 1000 сообщений и 30 Гб интернет-трафика\n",
    "- Стоимость услуг сверх тарифного пакета:\n",
    "- минута разговора: 1 рубль\n",
    "- сообщение: 1 рубль\n",
    "- 1 Гб интернет-трафика: 150 рублей"
   ]
  },
  {
   "cell_type": "markdown",
   "id": "6c72415f",
   "metadata": {},
   "source": [
    "## Обзор и подготовка данных"
   ]
  },
  {
   "cell_type": "code",
   "execution_count": 70,
   "id": "10c66808",
   "metadata": {},
   "outputs": [],
   "source": [
    "# Импортируем библиотеки\n",
    "import pandas as pd\n",
    "import math\n",
    "import matplotlib.pyplot as plt\n",
    "from scipy import stats as st\n",
    "import numpy as np"
   ]
  },
  {
   "cell_type": "code",
   "execution_count": 71,
   "id": "1c5628b3",
   "metadata": {},
   "outputs": [],
   "source": [
    "try:\n",
    "    calls_df = pd.read_csv('/datasets/calls.csv') #создаём датафрейм со звонками (с сервера)\n",
    "    internet_df = pd.read_csv('/datasets/internet.csv') #создаём датафрейм  с интернет-трафиком(с сервера)\n",
    "    messages_df = pd.read_csv('/datasets/messages.csv') #создаём датафрейм с данными о сообщениях (с сервера)\n",
    "    tariffs_df = pd.read_csv('/datasets/tariffs.csv') #создаём датафрейм с тарифами (с сервера)\n",
    "    users_df = pd.read_csv('/datasets/users.csv') #создаём датафрейм с данными о пользователях (с сервера)\n",
    "except:\n",
    "    calls_df = pd.read_csv('calls.csv') #создаём датафрейм (с компьютера)\n",
    "    internet_df = pd.read_csv('internet.csv') #создаём датафрейм с интернет-трафиком(с компьютера)\n",
    "    messages_df = pd.read_csv('messages.csv') #создаём датафрейм с данными о сообщениях (с компьютера)\n",
    "    tariffs_df = pd.read_csv('tariffs.csv') #создаём датафрейм с тарифами (с компьютера)\n",
    "    users_df = pd.read_csv('users.csv') #создаём датафрейм с данными о пользователях (с компьютера)"
   ]
  },
  {
   "cell_type": "markdown",
   "id": "4a851264",
   "metadata": {},
   "source": [
    "Запишем информацию о тарифах - стоимость пакета, количество минут, смс, гигабайтов, цену минут, смс, гигабайтов сверх пакета:"
   ]
  },
  {
   "cell_type": "code",
   "execution_count": 72,
   "id": "ea9a9e69",
   "metadata": {},
   "outputs": [],
   "source": [
    "# заносим информацию об обоих тарифах в переменные, чтобы использовать для расчётов в дальнейшем\n",
    "smart_minutes = 500\n",
    "smart_messages = 50\n",
    "smart_gbs = 15\n",
    "smart_minutes_price = 3\n",
    "smart_messages_price = 3\n",
    "smart_gbs_price = 200\n",
    "smart_payment = 550\n",
    "\n",
    "ultra_minutes = 3000\n",
    "ultra_messages = 1000\n",
    "ultra_gbs = 30\n",
    "ultra_minutes_price = 1\n",
    "ultra_messages_price = 1\n",
    "ultra_gbs_price = 150\n",
    "ultra_payment = 1950"
   ]
  },
  {
   "cell_type": "markdown",
   "id": "79efb5ee",
   "metadata": {},
   "source": [
    "Теперь по порядку будем смотреть каждый датафрейм, приводить столбцы к правильным типам, по возможности исправлять ошибки и заполнять пропуски. \n",
    "Датафрейм со звонками:"
   ]
  },
  {
   "cell_type": "code",
   "execution_count": 73,
   "id": "93fd1338",
   "metadata": {},
   "outputs": [
    {
     "data": {
      "text/html": [
       "<div>\n",
       "<style scoped>\n",
       "    .dataframe tbody tr th:only-of-type {\n",
       "        vertical-align: middle;\n",
       "    }\n",
       "\n",
       "    .dataframe tbody tr th {\n",
       "        vertical-align: top;\n",
       "    }\n",
       "\n",
       "    .dataframe thead th {\n",
       "        text-align: right;\n",
       "    }\n",
       "</style>\n",
       "<table border=\"1\" class=\"dataframe\">\n",
       "  <thead>\n",
       "    <tr style=\"text-align: right;\">\n",
       "      <th></th>\n",
       "      <th>id</th>\n",
       "      <th>call_date</th>\n",
       "      <th>duration</th>\n",
       "      <th>user_id</th>\n",
       "    </tr>\n",
       "  </thead>\n",
       "  <tbody>\n",
       "    <tr>\n",
       "      <th>0</th>\n",
       "      <td>1000_0</td>\n",
       "      <td>2018-07-25</td>\n",
       "      <td>0.00</td>\n",
       "      <td>1000</td>\n",
       "    </tr>\n",
       "    <tr>\n",
       "      <th>1</th>\n",
       "      <td>1000_1</td>\n",
       "      <td>2018-08-17</td>\n",
       "      <td>0.00</td>\n",
       "      <td>1000</td>\n",
       "    </tr>\n",
       "    <tr>\n",
       "      <th>2</th>\n",
       "      <td>1000_2</td>\n",
       "      <td>2018-06-11</td>\n",
       "      <td>2.85</td>\n",
       "      <td>1000</td>\n",
       "    </tr>\n",
       "    <tr>\n",
       "      <th>3</th>\n",
       "      <td>1000_3</td>\n",
       "      <td>2018-09-21</td>\n",
       "      <td>13.80</td>\n",
       "      <td>1000</td>\n",
       "    </tr>\n",
       "    <tr>\n",
       "      <th>4</th>\n",
       "      <td>1000_4</td>\n",
       "      <td>2018-12-15</td>\n",
       "      <td>5.18</td>\n",
       "      <td>1000</td>\n",
       "    </tr>\n",
       "    <tr>\n",
       "      <th>5</th>\n",
       "      <td>1000_5</td>\n",
       "      <td>2018-11-02</td>\n",
       "      <td>0.00</td>\n",
       "      <td>1000</td>\n",
       "    </tr>\n",
       "    <tr>\n",
       "      <th>6</th>\n",
       "      <td>1000_6</td>\n",
       "      <td>2018-10-18</td>\n",
       "      <td>0.00</td>\n",
       "      <td>1000</td>\n",
       "    </tr>\n",
       "    <tr>\n",
       "      <th>7</th>\n",
       "      <td>1000_7</td>\n",
       "      <td>2018-08-22</td>\n",
       "      <td>18.31</td>\n",
       "      <td>1000</td>\n",
       "    </tr>\n",
       "    <tr>\n",
       "      <th>8</th>\n",
       "      <td>1000_8</td>\n",
       "      <td>2018-09-15</td>\n",
       "      <td>18.44</td>\n",
       "      <td>1000</td>\n",
       "    </tr>\n",
       "    <tr>\n",
       "      <th>9</th>\n",
       "      <td>1000_9</td>\n",
       "      <td>2018-08-15</td>\n",
       "      <td>0.00</td>\n",
       "      <td>1000</td>\n",
       "    </tr>\n",
       "  </tbody>\n",
       "</table>\n",
       "</div>"
      ],
      "text/plain": [
       "       id   call_date  duration  user_id\n",
       "0  1000_0  2018-07-25      0.00     1000\n",
       "1  1000_1  2018-08-17      0.00     1000\n",
       "2  1000_2  2018-06-11      2.85     1000\n",
       "3  1000_3  2018-09-21     13.80     1000\n",
       "4  1000_4  2018-12-15      5.18     1000\n",
       "5  1000_5  2018-11-02      0.00     1000\n",
       "6  1000_6  2018-10-18      0.00     1000\n",
       "7  1000_7  2018-08-22     18.31     1000\n",
       "8  1000_8  2018-09-15     18.44     1000\n",
       "9  1000_9  2018-08-15      0.00     1000"
      ]
     },
     "execution_count": 73,
     "metadata": {},
     "output_type": "execute_result"
    }
   ],
   "source": [
    "calls_df.head(10) # вывод первых 10 строк calls_df"
   ]
  },
  {
   "cell_type": "code",
   "execution_count": 74,
   "id": "99c88182",
   "metadata": {},
   "outputs": [
    {
     "name": "stdout",
     "output_type": "stream",
     "text": [
      "<class 'pandas.core.frame.DataFrame'>\n",
      "RangeIndex: 202607 entries, 0 to 202606\n",
      "Data columns (total 4 columns):\n",
      " #   Column     Non-Null Count   Dtype  \n",
      "---  ------     --------------   -----  \n",
      " 0   id         202607 non-null  object \n",
      " 1   call_date  202607 non-null  object \n",
      " 2   duration   202607 non-null  float64\n",
      " 3   user_id    202607 non-null  int64  \n",
      "dtypes: float64(1), int64(1), object(2)\n",
      "memory usage: 6.2+ MB\n"
     ]
    }
   ],
   "source": [
    "calls_df.info() # вывод информации о calls_df"
   ]
  },
  {
   "cell_type": "markdown",
   "id": "41476d0f",
   "metadata": {},
   "source": [
    "Сейчас столбец call_date имеет формат object, переведём его в формат datetime:"
   ]
  },
  {
   "cell_type": "code",
   "execution_count": 75,
   "id": "6bcaa779",
   "metadata": {},
   "outputs": [],
   "source": [
    "# переводим дату в стандартный формат\n",
    "calls_df['call_date'] = pd.to_datetime(calls_df['call_date'], format='%Y-%m-%d') "
   ]
  },
  {
   "cell_type": "code",
   "execution_count": 76,
   "id": "a0f48ecd",
   "metadata": {},
   "outputs": [
    {
     "name": "stdout",
     "output_type": "stream",
     "text": [
      "<class 'pandas.core.frame.DataFrame'>\n",
      "RangeIndex: 202607 entries, 0 to 202606\n",
      "Data columns (total 4 columns):\n",
      " #   Column     Non-Null Count   Dtype         \n",
      "---  ------     --------------   -----         \n",
      " 0   id         202607 non-null  object        \n",
      " 1   call_date  202607 non-null  datetime64[ns]\n",
      " 2   duration   202607 non-null  float64       \n",
      " 3   user_id    202607 non-null  int64         \n",
      "dtypes: datetime64[ns](1), float64(1), int64(1), object(1)\n",
      "memory usage: 6.2+ MB\n"
     ]
    }
   ],
   "source": [
    "calls_df.info() # вывод информации о calls_df"
   ]
  },
  {
   "cell_type": "markdown",
   "id": "236c2b37",
   "metadata": {},
   "source": [
    "Поскольку оператор всегда округляет длительность до минут, причём всегда в большую сторону, сделаем так же:"
   ]
  },
  {
   "cell_type": "code",
   "execution_count": 77,
   "id": "8e68a84a",
   "metadata": {},
   "outputs": [
    {
     "data": {
      "text/html": [
       "<div>\n",
       "<style scoped>\n",
       "    .dataframe tbody tr th:only-of-type {\n",
       "        vertical-align: middle;\n",
       "    }\n",
       "\n",
       "    .dataframe tbody tr th {\n",
       "        vertical-align: top;\n",
       "    }\n",
       "\n",
       "    .dataframe thead th {\n",
       "        text-align: right;\n",
       "    }\n",
       "</style>\n",
       "<table border=\"1\" class=\"dataframe\">\n",
       "  <thead>\n",
       "    <tr style=\"text-align: right;\">\n",
       "      <th></th>\n",
       "      <th>id</th>\n",
       "      <th>call_date</th>\n",
       "      <th>duration</th>\n",
       "      <th>user_id</th>\n",
       "    </tr>\n",
       "  </thead>\n",
       "  <tbody>\n",
       "    <tr>\n",
       "      <th>0</th>\n",
       "      <td>1000_0</td>\n",
       "      <td>2018-07-25</td>\n",
       "      <td>0.0</td>\n",
       "      <td>1000</td>\n",
       "    </tr>\n",
       "    <tr>\n",
       "      <th>1</th>\n",
       "      <td>1000_1</td>\n",
       "      <td>2018-08-17</td>\n",
       "      <td>0.0</td>\n",
       "      <td>1000</td>\n",
       "    </tr>\n",
       "    <tr>\n",
       "      <th>2</th>\n",
       "      <td>1000_2</td>\n",
       "      <td>2018-06-11</td>\n",
       "      <td>3.0</td>\n",
       "      <td>1000</td>\n",
       "    </tr>\n",
       "    <tr>\n",
       "      <th>3</th>\n",
       "      <td>1000_3</td>\n",
       "      <td>2018-09-21</td>\n",
       "      <td>14.0</td>\n",
       "      <td>1000</td>\n",
       "    </tr>\n",
       "    <tr>\n",
       "      <th>4</th>\n",
       "      <td>1000_4</td>\n",
       "      <td>2018-12-15</td>\n",
       "      <td>6.0</td>\n",
       "      <td>1000</td>\n",
       "    </tr>\n",
       "  </tbody>\n",
       "</table>\n",
       "</div>"
      ],
      "text/plain": [
       "       id  call_date  duration  user_id\n",
       "0  1000_0 2018-07-25       0.0     1000\n",
       "1  1000_1 2018-08-17       0.0     1000\n",
       "2  1000_2 2018-06-11       3.0     1000\n",
       "3  1000_3 2018-09-21      14.0     1000\n",
       "4  1000_4 2018-12-15       6.0     1000"
      ]
     },
     "execution_count": 77,
     "metadata": {},
     "output_type": "execute_result"
    }
   ],
   "source": [
    "calls_df['duration'] = np.ceil(calls_df['duration']) # округляем значения столбца duration в большую сторону\n",
    "calls_df.head() # вывод первых 5 строк calls_df"
   ]
  },
  {
   "cell_type": "code",
   "execution_count": 78,
   "id": "660db91a",
   "metadata": {},
   "outputs": [
    {
     "data": {
      "text/plain": [
       "0"
      ]
     },
     "execution_count": 78,
     "metadata": {},
     "output_type": "execute_result"
    }
   ],
   "source": [
    "calls_df.duplicated().sum() # смотрим число дубликатов"
   ]
  },
  {
   "cell_type": "markdown",
   "id": "b00e4046",
   "metadata": {},
   "source": [
    "Теперь проверим на адекватность значения в столбце duration, чтобы не было отрицательных и запредельно больших значений. Для этого просто посмотрим значения максимума и минимума в столбце:"
   ]
  },
  {
   "cell_type": "code",
   "execution_count": 79,
   "id": "d1851960",
   "metadata": {},
   "outputs": [
    {
     "data": {
      "text/plain": [
       "38.0"
      ]
     },
     "execution_count": 79,
     "metadata": {},
     "output_type": "execute_result"
    }
   ],
   "source": [
    "calls_df['duration'].max() # находим максимальное значение в столбце duration"
   ]
  },
  {
   "cell_type": "code",
   "execution_count": 80,
   "id": "bcb3dc1b",
   "metadata": {},
   "outputs": [
    {
     "data": {
      "text/plain": [
       "0.0"
      ]
     },
     "execution_count": 80,
     "metadata": {},
     "output_type": "execute_result"
    }
   ],
   "source": [
    "calls_df['duration'].min() # находим минимальное значение в столбце duration"
   ]
  },
  {
   "cell_type": "markdown",
   "id": "84306c77",
   "metadata": {},
   "source": [
    "Всё более чем адекватно, 38 минут - совсем не много. А длительность 0 у пропущенных вызовов.\n",
    "\n",
    "Теперь займёмся датафреймом с интернет-трафиком:"
   ]
  },
  {
   "cell_type": "code",
   "execution_count": 81,
   "id": "478c6284",
   "metadata": {},
   "outputs": [
    {
     "data": {
      "text/html": [
       "<div>\n",
       "<style scoped>\n",
       "    .dataframe tbody tr th:only-of-type {\n",
       "        vertical-align: middle;\n",
       "    }\n",
       "\n",
       "    .dataframe tbody tr th {\n",
       "        vertical-align: top;\n",
       "    }\n",
       "\n",
       "    .dataframe thead th {\n",
       "        text-align: right;\n",
       "    }\n",
       "</style>\n",
       "<table border=\"1\" class=\"dataframe\">\n",
       "  <thead>\n",
       "    <tr style=\"text-align: right;\">\n",
       "      <th></th>\n",
       "      <th>Unnamed: 0</th>\n",
       "      <th>id</th>\n",
       "      <th>mb_used</th>\n",
       "      <th>session_date</th>\n",
       "      <th>user_id</th>\n",
       "    </tr>\n",
       "  </thead>\n",
       "  <tbody>\n",
       "    <tr>\n",
       "      <th>0</th>\n",
       "      <td>0</td>\n",
       "      <td>1000_0</td>\n",
       "      <td>112.95</td>\n",
       "      <td>2018-11-25</td>\n",
       "      <td>1000</td>\n",
       "    </tr>\n",
       "    <tr>\n",
       "      <th>1</th>\n",
       "      <td>1</td>\n",
       "      <td>1000_1</td>\n",
       "      <td>1052.81</td>\n",
       "      <td>2018-09-07</td>\n",
       "      <td>1000</td>\n",
       "    </tr>\n",
       "    <tr>\n",
       "      <th>2</th>\n",
       "      <td>2</td>\n",
       "      <td>1000_2</td>\n",
       "      <td>1197.26</td>\n",
       "      <td>2018-06-25</td>\n",
       "      <td>1000</td>\n",
       "    </tr>\n",
       "    <tr>\n",
       "      <th>3</th>\n",
       "      <td>3</td>\n",
       "      <td>1000_3</td>\n",
       "      <td>550.27</td>\n",
       "      <td>2018-08-22</td>\n",
       "      <td>1000</td>\n",
       "    </tr>\n",
       "    <tr>\n",
       "      <th>4</th>\n",
       "      <td>4</td>\n",
       "      <td>1000_4</td>\n",
       "      <td>302.56</td>\n",
       "      <td>2018-09-24</td>\n",
       "      <td>1000</td>\n",
       "    </tr>\n",
       "    <tr>\n",
       "      <th>5</th>\n",
       "      <td>5</td>\n",
       "      <td>1000_5</td>\n",
       "      <td>399.97</td>\n",
       "      <td>2018-10-02</td>\n",
       "      <td>1000</td>\n",
       "    </tr>\n",
       "    <tr>\n",
       "      <th>6</th>\n",
       "      <td>6</td>\n",
       "      <td>1000_6</td>\n",
       "      <td>540.08</td>\n",
       "      <td>2018-09-07</td>\n",
       "      <td>1000</td>\n",
       "    </tr>\n",
       "    <tr>\n",
       "      <th>7</th>\n",
       "      <td>7</td>\n",
       "      <td>1000_7</td>\n",
       "      <td>415.70</td>\n",
       "      <td>2018-07-11</td>\n",
       "      <td>1000</td>\n",
       "    </tr>\n",
       "    <tr>\n",
       "      <th>8</th>\n",
       "      <td>8</td>\n",
       "      <td>1000_8</td>\n",
       "      <td>505.40</td>\n",
       "      <td>2018-10-08</td>\n",
       "      <td>1000</td>\n",
       "    </tr>\n",
       "    <tr>\n",
       "      <th>9</th>\n",
       "      <td>9</td>\n",
       "      <td>1000_9</td>\n",
       "      <td>345.54</td>\n",
       "      <td>2018-09-03</td>\n",
       "      <td>1000</td>\n",
       "    </tr>\n",
       "  </tbody>\n",
       "</table>\n",
       "</div>"
      ],
      "text/plain": [
       "   Unnamed: 0      id  mb_used session_date  user_id\n",
       "0           0  1000_0   112.95   2018-11-25     1000\n",
       "1           1  1000_1  1052.81   2018-09-07     1000\n",
       "2           2  1000_2  1197.26   2018-06-25     1000\n",
       "3           3  1000_3   550.27   2018-08-22     1000\n",
       "4           4  1000_4   302.56   2018-09-24     1000\n",
       "5           5  1000_5   399.97   2018-10-02     1000\n",
       "6           6  1000_6   540.08   2018-09-07     1000\n",
       "7           7  1000_7   415.70   2018-07-11     1000\n",
       "8           8  1000_8   505.40   2018-10-08     1000\n",
       "9           9  1000_9   345.54   2018-09-03     1000"
      ]
     },
     "execution_count": 81,
     "metadata": {},
     "output_type": "execute_result"
    }
   ],
   "source": [
    "internet_df.head(10) # вывод первых 10 строк internet_df"
   ]
  },
  {
   "cell_type": "code",
   "execution_count": 82,
   "id": "201d94b3",
   "metadata": {},
   "outputs": [
    {
     "name": "stdout",
     "output_type": "stream",
     "text": [
      "<class 'pandas.core.frame.DataFrame'>\n",
      "RangeIndex: 149396 entries, 0 to 149395\n",
      "Data columns (total 5 columns):\n",
      " #   Column        Non-Null Count   Dtype  \n",
      "---  ------        --------------   -----  \n",
      " 0   Unnamed: 0    149396 non-null  int64  \n",
      " 1   id            149396 non-null  object \n",
      " 2   mb_used       149396 non-null  float64\n",
      " 3   session_date  149396 non-null  object \n",
      " 4   user_id       149396 non-null  int64  \n",
      "dtypes: float64(1), int64(2), object(2)\n",
      "memory usage: 5.7+ MB\n"
     ]
    }
   ],
   "source": [
    "internet_df.info() # вывод информации о internet_df"
   ]
  },
  {
   "cell_type": "code",
   "execution_count": 83,
   "id": "e5605dbf",
   "metadata": {},
   "outputs": [
    {
     "data": {
      "text/plain": [
       "0"
      ]
     },
     "execution_count": 83,
     "metadata": {},
     "output_type": "execute_result"
    }
   ],
   "source": [
    "internet_df.duplicated().sum() # смотрим число дубликатов"
   ]
  },
  {
   "cell_type": "code",
   "execution_count": 84,
   "id": "5a8db70b",
   "metadata": {},
   "outputs": [],
   "source": [
    "# переводим дату в стандартный формат\n",
    "internet_df['session_date'] = pd.to_datetime(internet_df['session_date'], format='%Y-%m-%d') "
   ]
  },
  {
   "cell_type": "code",
   "execution_count": 85,
   "id": "993d7bc0",
   "metadata": {},
   "outputs": [
    {
     "data": {
      "text/plain": [
       "1724.83"
      ]
     },
     "execution_count": 85,
     "metadata": {},
     "output_type": "execute_result"
    }
   ],
   "source": [
    "internet_df['mb_used'].max() # находим максимальное значение в столбце mb_used"
   ]
  },
  {
   "cell_type": "code",
   "execution_count": 86,
   "id": "213eda1a",
   "metadata": {},
   "outputs": [
    {
     "data": {
      "text/plain": [
       "0.0"
      ]
     },
     "execution_count": 86,
     "metadata": {},
     "output_type": "execute_result"
    }
   ],
   "source": [
    "internet_df['mb_used'].min() # находим минимальное значение в столбце mb_used"
   ]
  },
  {
   "cell_type": "markdown",
   "id": "3c8fbb4c",
   "metadata": {},
   "source": [
    "Нулевой объём трафика не кажется правдоподобным, возможно, человек зашёл в интернет и тут же вышел. Посмотрим на срез датафрейма с нулевым трафиком:"
   ]
  },
  {
   "cell_type": "code",
   "execution_count": 87,
   "id": "81336bbf",
   "metadata": {},
   "outputs": [
    {
     "data": {
      "text/html": [
       "<div>\n",
       "<style scoped>\n",
       "    .dataframe tbody tr th:only-of-type {\n",
       "        vertical-align: middle;\n",
       "    }\n",
       "\n",
       "    .dataframe tbody tr th {\n",
       "        vertical-align: top;\n",
       "    }\n",
       "\n",
       "    .dataframe thead th {\n",
       "        text-align: right;\n",
       "    }\n",
       "</style>\n",
       "<table border=\"1\" class=\"dataframe\">\n",
       "  <thead>\n",
       "    <tr style=\"text-align: right;\">\n",
       "      <th></th>\n",
       "      <th>Unnamed: 0</th>\n",
       "      <th>id</th>\n",
       "      <th>mb_used</th>\n",
       "      <th>session_date</th>\n",
       "      <th>user_id</th>\n",
       "    </tr>\n",
       "  </thead>\n",
       "  <tbody>\n",
       "    <tr>\n",
       "      <th>11</th>\n",
       "      <td>11</td>\n",
       "      <td>1000_11</td>\n",
       "      <td>0.0</td>\n",
       "      <td>2018-08-28</td>\n",
       "      <td>1000</td>\n",
       "    </tr>\n",
       "    <tr>\n",
       "      <th>38</th>\n",
       "      <td>38</td>\n",
       "      <td>1000_38</td>\n",
       "      <td>0.0</td>\n",
       "      <td>2018-11-27</td>\n",
       "      <td>1000</td>\n",
       "    </tr>\n",
       "    <tr>\n",
       "      <th>46</th>\n",
       "      <td>46</td>\n",
       "      <td>1000_46</td>\n",
       "      <td>0.0</td>\n",
       "      <td>2018-06-30</td>\n",
       "      <td>1000</td>\n",
       "    </tr>\n",
       "    <tr>\n",
       "      <th>67</th>\n",
       "      <td>67</td>\n",
       "      <td>1000_67</td>\n",
       "      <td>0.0</td>\n",
       "      <td>2018-06-16</td>\n",
       "      <td>1000</td>\n",
       "    </tr>\n",
       "    <tr>\n",
       "      <th>72</th>\n",
       "      <td>72</td>\n",
       "      <td>1000_72</td>\n",
       "      <td>0.0</td>\n",
       "      <td>2018-06-15</td>\n",
       "      <td>1000</td>\n",
       "    </tr>\n",
       "    <tr>\n",
       "      <th>...</th>\n",
       "      <td>...</td>\n",
       "      <td>...</td>\n",
       "      <td>...</td>\n",
       "      <td>...</td>\n",
       "      <td>...</td>\n",
       "    </tr>\n",
       "    <tr>\n",
       "      <th>149380</th>\n",
       "      <td>149380</td>\n",
       "      <td>1499_141</td>\n",
       "      <td>0.0</td>\n",
       "      <td>2018-12-11</td>\n",
       "      <td>1499</td>\n",
       "    </tr>\n",
       "    <tr>\n",
       "      <th>149381</th>\n",
       "      <td>149381</td>\n",
       "      <td>1499_142</td>\n",
       "      <td>0.0</td>\n",
       "      <td>2018-11-01</td>\n",
       "      <td>1499</td>\n",
       "    </tr>\n",
       "    <tr>\n",
       "      <th>149383</th>\n",
       "      <td>149383</td>\n",
       "      <td>1499_144</td>\n",
       "      <td>0.0</td>\n",
       "      <td>2018-11-27</td>\n",
       "      <td>1499</td>\n",
       "    </tr>\n",
       "    <tr>\n",
       "      <th>149386</th>\n",
       "      <td>149386</td>\n",
       "      <td>1499_147</td>\n",
       "      <td>0.0</td>\n",
       "      <td>2018-10-21</td>\n",
       "      <td>1499</td>\n",
       "    </tr>\n",
       "    <tr>\n",
       "      <th>149393</th>\n",
       "      <td>149393</td>\n",
       "      <td>1499_154</td>\n",
       "      <td>0.0</td>\n",
       "      <td>2018-10-27</td>\n",
       "      <td>1499</td>\n",
       "    </tr>\n",
       "  </tbody>\n",
       "</table>\n",
       "<p>19598 rows × 5 columns</p>\n",
       "</div>"
      ],
      "text/plain": [
       "        Unnamed: 0        id  mb_used session_date  user_id\n",
       "11              11   1000_11      0.0   2018-08-28     1000\n",
       "38              38   1000_38      0.0   2018-11-27     1000\n",
       "46              46   1000_46      0.0   2018-06-30     1000\n",
       "67              67   1000_67      0.0   2018-06-16     1000\n",
       "72              72   1000_72      0.0   2018-06-15     1000\n",
       "...            ...       ...      ...          ...      ...\n",
       "149380      149380  1499_141      0.0   2018-12-11     1499\n",
       "149381      149381  1499_142      0.0   2018-11-01     1499\n",
       "149383      149383  1499_144      0.0   2018-11-27     1499\n",
       "149386      149386  1499_147      0.0   2018-10-21     1499\n",
       "149393      149393  1499_154      0.0   2018-10-27     1499\n",
       "\n",
       "[19598 rows x 5 columns]"
      ]
     },
     "execution_count": 87,
     "metadata": {},
     "output_type": "execute_result"
    }
   ],
   "source": [
    "internet_df[internet_df['mb_used'] == 0] # смотрим срез датафрейма internet_df с нулевым трафиком "
   ]
  },
  {
   "cell_type": "markdown",
   "id": "6df11ed2",
   "metadata": {},
   "source": [
    "Никакой системы в этом срезе не видно, таких строк около 20 000 в примерно 150-тысячном датафрейме. Думаю, их правильно будет удалить, кроме трафика и даты сессии, датафрейм не несёт никакой информации:"
   ]
  },
  {
   "cell_type": "code",
   "execution_count": 88,
   "id": "325d9c0d",
   "metadata": {},
   "outputs": [],
   "source": [
    "internet_df = internet_df[internet_df['mb_used'] != 0] # перезаписываем датафрейм, оставляя только строки с ненулевым трафиком"
   ]
  },
  {
   "cell_type": "markdown",
   "id": "bcc5dfa0",
   "metadata": {},
   "source": [
    "Посмотрим, что в датафрейме с сообщениями: "
   ]
  },
  {
   "cell_type": "code",
   "execution_count": 89,
   "id": "1a8fc144",
   "metadata": {},
   "outputs": [
    {
     "data": {
      "text/html": [
       "<div>\n",
       "<style scoped>\n",
       "    .dataframe tbody tr th:only-of-type {\n",
       "        vertical-align: middle;\n",
       "    }\n",
       "\n",
       "    .dataframe tbody tr th {\n",
       "        vertical-align: top;\n",
       "    }\n",
       "\n",
       "    .dataframe thead th {\n",
       "        text-align: right;\n",
       "    }\n",
       "</style>\n",
       "<table border=\"1\" class=\"dataframe\">\n",
       "  <thead>\n",
       "    <tr style=\"text-align: right;\">\n",
       "      <th></th>\n",
       "      <th>id</th>\n",
       "      <th>message_date</th>\n",
       "      <th>user_id</th>\n",
       "    </tr>\n",
       "  </thead>\n",
       "  <tbody>\n",
       "    <tr>\n",
       "      <th>0</th>\n",
       "      <td>1000_0</td>\n",
       "      <td>2018-06-27</td>\n",
       "      <td>1000</td>\n",
       "    </tr>\n",
       "    <tr>\n",
       "      <th>1</th>\n",
       "      <td>1000_1</td>\n",
       "      <td>2018-10-08</td>\n",
       "      <td>1000</td>\n",
       "    </tr>\n",
       "    <tr>\n",
       "      <th>2</th>\n",
       "      <td>1000_2</td>\n",
       "      <td>2018-08-04</td>\n",
       "      <td>1000</td>\n",
       "    </tr>\n",
       "    <tr>\n",
       "      <th>3</th>\n",
       "      <td>1000_3</td>\n",
       "      <td>2018-06-16</td>\n",
       "      <td>1000</td>\n",
       "    </tr>\n",
       "    <tr>\n",
       "      <th>4</th>\n",
       "      <td>1000_4</td>\n",
       "      <td>2018-12-05</td>\n",
       "      <td>1000</td>\n",
       "    </tr>\n",
       "    <tr>\n",
       "      <th>5</th>\n",
       "      <td>1000_5</td>\n",
       "      <td>2018-06-20</td>\n",
       "      <td>1000</td>\n",
       "    </tr>\n",
       "    <tr>\n",
       "      <th>6</th>\n",
       "      <td>1000_6</td>\n",
       "      <td>2018-11-19</td>\n",
       "      <td>1000</td>\n",
       "    </tr>\n",
       "    <tr>\n",
       "      <th>7</th>\n",
       "      <td>1000_7</td>\n",
       "      <td>2018-10-29</td>\n",
       "      <td>1000</td>\n",
       "    </tr>\n",
       "    <tr>\n",
       "      <th>8</th>\n",
       "      <td>1000_8</td>\n",
       "      <td>2018-06-25</td>\n",
       "      <td>1000</td>\n",
       "    </tr>\n",
       "    <tr>\n",
       "      <th>9</th>\n",
       "      <td>1000_9</td>\n",
       "      <td>2018-12-18</td>\n",
       "      <td>1000</td>\n",
       "    </tr>\n",
       "  </tbody>\n",
       "</table>\n",
       "</div>"
      ],
      "text/plain": [
       "       id message_date  user_id\n",
       "0  1000_0   2018-06-27     1000\n",
       "1  1000_1   2018-10-08     1000\n",
       "2  1000_2   2018-08-04     1000\n",
       "3  1000_3   2018-06-16     1000\n",
       "4  1000_4   2018-12-05     1000\n",
       "5  1000_5   2018-06-20     1000\n",
       "6  1000_6   2018-11-19     1000\n",
       "7  1000_7   2018-10-29     1000\n",
       "8  1000_8   2018-06-25     1000\n",
       "9  1000_9   2018-12-18     1000"
      ]
     },
     "execution_count": 89,
     "metadata": {},
     "output_type": "execute_result"
    }
   ],
   "source": [
    "messages_df.head(10) # вывод первых 10 строк messages_df"
   ]
  },
  {
   "cell_type": "code",
   "execution_count": 90,
   "id": "6d9c2608",
   "metadata": {},
   "outputs": [
    {
     "name": "stdout",
     "output_type": "stream",
     "text": [
      "<class 'pandas.core.frame.DataFrame'>\n",
      "RangeIndex: 123036 entries, 0 to 123035\n",
      "Data columns (total 3 columns):\n",
      " #   Column        Non-Null Count   Dtype \n",
      "---  ------        --------------   ----- \n",
      " 0   id            123036 non-null  object\n",
      " 1   message_date  123036 non-null  object\n",
      " 2   user_id       123036 non-null  int64 \n",
      "dtypes: int64(1), object(2)\n",
      "memory usage: 2.8+ MB\n"
     ]
    }
   ],
   "source": [
    "messages_df.info() # вывод информации о messages_df"
   ]
  },
  {
   "cell_type": "code",
   "execution_count": 91,
   "id": "380acb36",
   "metadata": {},
   "outputs": [
    {
     "data": {
      "text/plain": [
       "0"
      ]
     },
     "execution_count": 91,
     "metadata": {},
     "output_type": "execute_result"
    }
   ],
   "source": [
    "messages_df.duplicated().sum() # Смотрим число дубликатов"
   ]
  },
  {
   "cell_type": "code",
   "execution_count": 92,
   "id": "f4762977",
   "metadata": {},
   "outputs": [],
   "source": [
    "# переводим дату в стандартный формат\n",
    "messages_df['message_date'] = pd.to_datetime(messages_df['message_date'], format='%Y-%m-%d') "
   ]
  },
  {
   "cell_type": "markdown",
   "id": "847b5fb6",
   "metadata": {},
   "source": [
    "Посмотрим, что в датафрейме с тарифами:"
   ]
  },
  {
   "cell_type": "code",
   "execution_count": 93,
   "id": "a034a9e9",
   "metadata": {},
   "outputs": [
    {
     "data": {
      "text/html": [
       "<div>\n",
       "<style scoped>\n",
       "    .dataframe tbody tr th:only-of-type {\n",
       "        vertical-align: middle;\n",
       "    }\n",
       "\n",
       "    .dataframe tbody tr th {\n",
       "        vertical-align: top;\n",
       "    }\n",
       "\n",
       "    .dataframe thead th {\n",
       "        text-align: right;\n",
       "    }\n",
       "</style>\n",
       "<table border=\"1\" class=\"dataframe\">\n",
       "  <thead>\n",
       "    <tr style=\"text-align: right;\">\n",
       "      <th></th>\n",
       "      <th>messages_included</th>\n",
       "      <th>mb_per_month_included</th>\n",
       "      <th>minutes_included</th>\n",
       "      <th>rub_monthly_fee</th>\n",
       "      <th>rub_per_gb</th>\n",
       "      <th>rub_per_message</th>\n",
       "      <th>rub_per_minute</th>\n",
       "      <th>tariff_name</th>\n",
       "    </tr>\n",
       "  </thead>\n",
       "  <tbody>\n",
       "    <tr>\n",
       "      <th>0</th>\n",
       "      <td>50</td>\n",
       "      <td>15360</td>\n",
       "      <td>500</td>\n",
       "      <td>550</td>\n",
       "      <td>200</td>\n",
       "      <td>3</td>\n",
       "      <td>3</td>\n",
       "      <td>smart</td>\n",
       "    </tr>\n",
       "    <tr>\n",
       "      <th>1</th>\n",
       "      <td>1000</td>\n",
       "      <td>30720</td>\n",
       "      <td>3000</td>\n",
       "      <td>1950</td>\n",
       "      <td>150</td>\n",
       "      <td>1</td>\n",
       "      <td>1</td>\n",
       "      <td>ultra</td>\n",
       "    </tr>\n",
       "  </tbody>\n",
       "</table>\n",
       "</div>"
      ],
      "text/plain": [
       "   messages_included  mb_per_month_included  minutes_included  \\\n",
       "0                 50                  15360               500   \n",
       "1               1000                  30720              3000   \n",
       "\n",
       "   rub_monthly_fee  rub_per_gb  rub_per_message  rub_per_minute tariff_name  \n",
       "0              550         200                3               3       smart  \n",
       "1             1950         150                1               1       ultra  "
      ]
     },
     "execution_count": 93,
     "metadata": {},
     "output_type": "execute_result"
    }
   ],
   "source": [
    "tariffs_df.head() # вывод первых строк tariffs_df"
   ]
  },
  {
   "cell_type": "code",
   "execution_count": 94,
   "id": "dd84febb",
   "metadata": {},
   "outputs": [
    {
     "name": "stdout",
     "output_type": "stream",
     "text": [
      "<class 'pandas.core.frame.DataFrame'>\n",
      "RangeIndex: 2 entries, 0 to 1\n",
      "Data columns (total 8 columns):\n",
      " #   Column                 Non-Null Count  Dtype \n",
      "---  ------                 --------------  ----- \n",
      " 0   messages_included      2 non-null      int64 \n",
      " 1   mb_per_month_included  2 non-null      int64 \n",
      " 2   minutes_included       2 non-null      int64 \n",
      " 3   rub_monthly_fee        2 non-null      int64 \n",
      " 4   rub_per_gb             2 non-null      int64 \n",
      " 5   rub_per_message        2 non-null      int64 \n",
      " 6   rub_per_minute         2 non-null      int64 \n",
      " 7   tariff_name            2 non-null      object\n",
      "dtypes: int64(7), object(1)\n",
      "memory usage: 256.0+ bytes\n"
     ]
    }
   ],
   "source": [
    "tariffs_df.info() # вывод первых информации о tariffs_df"
   ]
  },
  {
   "cell_type": "markdown",
   "id": "784045c1",
   "metadata": {},
   "source": [
    "Всё ясно!\n",
    "Наконец, посмотрим на датафрейм с пользователями:"
   ]
  },
  {
   "cell_type": "code",
   "execution_count": 95,
   "id": "e4c4cdc0",
   "metadata": {},
   "outputs": [
    {
     "data": {
      "text/html": [
       "<div>\n",
       "<style scoped>\n",
       "    .dataframe tbody tr th:only-of-type {\n",
       "        vertical-align: middle;\n",
       "    }\n",
       "\n",
       "    .dataframe tbody tr th {\n",
       "        vertical-align: top;\n",
       "    }\n",
       "\n",
       "    .dataframe thead th {\n",
       "        text-align: right;\n",
       "    }\n",
       "</style>\n",
       "<table border=\"1\" class=\"dataframe\">\n",
       "  <thead>\n",
       "    <tr style=\"text-align: right;\">\n",
       "      <th></th>\n",
       "      <th>user_id</th>\n",
       "      <th>age</th>\n",
       "      <th>churn_date</th>\n",
       "      <th>city</th>\n",
       "      <th>first_name</th>\n",
       "      <th>last_name</th>\n",
       "      <th>reg_date</th>\n",
       "      <th>tariff</th>\n",
       "    </tr>\n",
       "  </thead>\n",
       "  <tbody>\n",
       "    <tr>\n",
       "      <th>0</th>\n",
       "      <td>1000</td>\n",
       "      <td>52</td>\n",
       "      <td>NaN</td>\n",
       "      <td>Краснодар</td>\n",
       "      <td>Рафаил</td>\n",
       "      <td>Верещагин</td>\n",
       "      <td>2018-05-25</td>\n",
       "      <td>ultra</td>\n",
       "    </tr>\n",
       "    <tr>\n",
       "      <th>1</th>\n",
       "      <td>1001</td>\n",
       "      <td>41</td>\n",
       "      <td>NaN</td>\n",
       "      <td>Москва</td>\n",
       "      <td>Иван</td>\n",
       "      <td>Ежов</td>\n",
       "      <td>2018-11-01</td>\n",
       "      <td>smart</td>\n",
       "    </tr>\n",
       "    <tr>\n",
       "      <th>2</th>\n",
       "      <td>1002</td>\n",
       "      <td>59</td>\n",
       "      <td>NaN</td>\n",
       "      <td>Стерлитамак</td>\n",
       "      <td>Евгений</td>\n",
       "      <td>Абрамович</td>\n",
       "      <td>2018-06-17</td>\n",
       "      <td>smart</td>\n",
       "    </tr>\n",
       "    <tr>\n",
       "      <th>3</th>\n",
       "      <td>1003</td>\n",
       "      <td>23</td>\n",
       "      <td>NaN</td>\n",
       "      <td>Москва</td>\n",
       "      <td>Белла</td>\n",
       "      <td>Белякова</td>\n",
       "      <td>2018-08-17</td>\n",
       "      <td>ultra</td>\n",
       "    </tr>\n",
       "    <tr>\n",
       "      <th>4</th>\n",
       "      <td>1004</td>\n",
       "      <td>68</td>\n",
       "      <td>NaN</td>\n",
       "      <td>Новокузнецк</td>\n",
       "      <td>Татьяна</td>\n",
       "      <td>Авдеенко</td>\n",
       "      <td>2018-05-14</td>\n",
       "      <td>ultra</td>\n",
       "    </tr>\n",
       "    <tr>\n",
       "      <th>5</th>\n",
       "      <td>1005</td>\n",
       "      <td>67</td>\n",
       "      <td>NaN</td>\n",
       "      <td>Набережные Челны</td>\n",
       "      <td>Афанасий</td>\n",
       "      <td>Горлов</td>\n",
       "      <td>2018-01-25</td>\n",
       "      <td>smart</td>\n",
       "    </tr>\n",
       "    <tr>\n",
       "      <th>6</th>\n",
       "      <td>1006</td>\n",
       "      <td>21</td>\n",
       "      <td>NaN</td>\n",
       "      <td>Ульяновск</td>\n",
       "      <td>Леонид</td>\n",
       "      <td>Ермолаев</td>\n",
       "      <td>2018-02-26</td>\n",
       "      <td>smart</td>\n",
       "    </tr>\n",
       "    <tr>\n",
       "      <th>7</th>\n",
       "      <td>1007</td>\n",
       "      <td>65</td>\n",
       "      <td>NaN</td>\n",
       "      <td>Москва</td>\n",
       "      <td>Юна</td>\n",
       "      <td>Березина</td>\n",
       "      <td>2018-04-19</td>\n",
       "      <td>smart</td>\n",
       "    </tr>\n",
       "    <tr>\n",
       "      <th>8</th>\n",
       "      <td>1008</td>\n",
       "      <td>63</td>\n",
       "      <td>NaN</td>\n",
       "      <td>Челябинск</td>\n",
       "      <td>Рустэм</td>\n",
       "      <td>Пономарёв</td>\n",
       "      <td>2018-12-19</td>\n",
       "      <td>smart</td>\n",
       "    </tr>\n",
       "    <tr>\n",
       "      <th>9</th>\n",
       "      <td>1009</td>\n",
       "      <td>24</td>\n",
       "      <td>NaN</td>\n",
       "      <td>Пермь</td>\n",
       "      <td>Василиса</td>\n",
       "      <td>Блинова</td>\n",
       "      <td>2018-03-22</td>\n",
       "      <td>smart</td>\n",
       "    </tr>\n",
       "  </tbody>\n",
       "</table>\n",
       "</div>"
      ],
      "text/plain": [
       "   user_id  age churn_date              city first_name  last_name  \\\n",
       "0     1000   52        NaN         Краснодар     Рафаил  Верещагин   \n",
       "1     1001   41        NaN            Москва       Иван       Ежов   \n",
       "2     1002   59        NaN       Стерлитамак    Евгений  Абрамович   \n",
       "3     1003   23        NaN            Москва      Белла   Белякова   \n",
       "4     1004   68        NaN       Новокузнецк    Татьяна   Авдеенко   \n",
       "5     1005   67        NaN  Набережные Челны   Афанасий     Горлов   \n",
       "6     1006   21        NaN         Ульяновск     Леонид   Ермолаев   \n",
       "7     1007   65        NaN            Москва        Юна   Березина   \n",
       "8     1008   63        NaN         Челябинск     Рустэм  Пономарёв   \n",
       "9     1009   24        NaN             Пермь   Василиса    Блинова   \n",
       "\n",
       "     reg_date tariff  \n",
       "0  2018-05-25  ultra  \n",
       "1  2018-11-01  smart  \n",
       "2  2018-06-17  smart  \n",
       "3  2018-08-17  ultra  \n",
       "4  2018-05-14  ultra  \n",
       "5  2018-01-25  smart  \n",
       "6  2018-02-26  smart  \n",
       "7  2018-04-19  smart  \n",
       "8  2018-12-19  smart  \n",
       "9  2018-03-22  smart  "
      ]
     },
     "execution_count": 95,
     "metadata": {},
     "output_type": "execute_result"
    }
   ],
   "source": [
    "users_df.head(10) # вывод первых 10 строк users_df"
   ]
  },
  {
   "cell_type": "code",
   "execution_count": 96,
   "id": "97944f60",
   "metadata": {},
   "outputs": [
    {
     "name": "stdout",
     "output_type": "stream",
     "text": [
      "<class 'pandas.core.frame.DataFrame'>\n",
      "RangeIndex: 500 entries, 0 to 499\n",
      "Data columns (total 8 columns):\n",
      " #   Column      Non-Null Count  Dtype \n",
      "---  ------      --------------  ----- \n",
      " 0   user_id     500 non-null    int64 \n",
      " 1   age         500 non-null    int64 \n",
      " 2   churn_date  38 non-null     object\n",
      " 3   city        500 non-null    object\n",
      " 4   first_name  500 non-null    object\n",
      " 5   last_name   500 non-null    object\n",
      " 6   reg_date    500 non-null    object\n",
      " 7   tariff      500 non-null    object\n",
      "dtypes: int64(2), object(6)\n",
      "memory usage: 31.4+ KB\n"
     ]
    }
   ],
   "source": [
    "users_df.info() # вывод информации о users_df"
   ]
  },
  {
   "cell_type": "code",
   "execution_count": 97,
   "id": "65c4a2b7",
   "metadata": {},
   "outputs": [],
   "source": [
    "users_df.duplicated().sum() # Смотрим число дубликатов\n",
    "# Создаём новый датафрейм с информацией о пользователях, где оставляем только id, город и тариф\n",
    "users_df_new = users_df[['user_id', 'city', 'tariff']] "
   ]
  },
  {
   "cell_type": "code",
   "execution_count": 98,
   "id": "45de752e",
   "metadata": {},
   "outputs": [],
   "source": [
    "# переводим даты в стандартный формат\n",
    "users_df['reg_date'] = pd.to_datetime(users_df['reg_date'], format='%Y-%m-%d') \n",
    "users_df['churn_date'] = pd.to_datetime(users_df['churn_date'], format='%Y-%m-%d') "
   ]
  },
  {
   "cell_type": "code",
   "execution_count": 99,
   "id": "3ff7dfda",
   "metadata": {},
   "outputs": [
    {
     "name": "stdout",
     "output_type": "stream",
     "text": [
      "<class 'pandas.core.frame.DataFrame'>\n",
      "RangeIndex: 500 entries, 0 to 499\n",
      "Data columns (total 8 columns):\n",
      " #   Column      Non-Null Count  Dtype         \n",
      "---  ------      --------------  -----         \n",
      " 0   user_id     500 non-null    int64         \n",
      " 1   age         500 non-null    int64         \n",
      " 2   churn_date  38 non-null     datetime64[ns]\n",
      " 3   city        500 non-null    object        \n",
      " 4   first_name  500 non-null    object        \n",
      " 5   last_name   500 non-null    object        \n",
      " 6   reg_date    500 non-null    datetime64[ns]\n",
      " 7   tariff      500 non-null    object        \n",
      "dtypes: datetime64[ns](2), int64(2), object(4)\n",
      "memory usage: 31.4+ KB\n"
     ]
    }
   ],
   "source": [
    "users_df.info() # вывод информации о users_df"
   ]
  },
  {
   "cell_type": "markdown",
   "id": "4158d557",
   "metadata": {},
   "source": [
    "Проверим на адекватность значений столбец age: "
   ]
  },
  {
   "cell_type": "code",
   "execution_count": 100,
   "id": "185f6bad",
   "metadata": {},
   "outputs": [
    {
     "data": {
      "text/plain": [
       "18"
      ]
     },
     "execution_count": 100,
     "metadata": {},
     "output_type": "execute_result"
    }
   ],
   "source": [
    "users_df['age'].min() # находим минимальное значение в столбце age"
   ]
  },
  {
   "cell_type": "code",
   "execution_count": 101,
   "id": "3215f68c",
   "metadata": {},
   "outputs": [
    {
     "data": {
      "text/plain": [
       "75"
      ]
     },
     "execution_count": 101,
     "metadata": {},
     "output_type": "execute_result"
    }
   ],
   "source": [
    "users_df['age'].max() # находим максимальное значение в столбце age"
   ]
  },
  {
   "cell_type": "code",
   "execution_count": 102,
   "id": "a1b14d73",
   "metadata": {},
   "outputs": [
    {
     "data": {
      "text/plain": [
       "array(['ultra', 'smart'], dtype=object)"
      ]
     },
     "execution_count": 102,
     "metadata": {},
     "output_type": "execute_result"
    }
   ],
   "source": [
    "users_df['tariff'].unique() # смотрим уникальные значение в столбце tariff"
   ]
  },
  {
   "cell_type": "markdown",
   "id": "cfc2235b",
   "metadata": {},
   "source": [
    "В столбце tariff аномалий не обнаружено."
   ]
  },
  {
   "cell_type": "code",
   "execution_count": 103,
   "id": "be907e8b",
   "metadata": {},
   "outputs": [],
   "source": [
    "calls_df['month'] = calls_df['call_date'].dt.month # содаём столбец с месяцем звонка\n",
    "messages_df['month'] = messages_df['message_date'].dt.month # содаём столбец с месяцем отправки сообщения\n",
    "internet_df['month'] = internet_df['session_date'].dt.month # содаём столбец с месяцем интернет-сессии"
   ]
  },
  {
   "cell_type": "code",
   "execution_count": 104,
   "id": "cad9c178",
   "metadata": {},
   "outputs": [
    {
     "data": {
      "text/html": [
       "<div>\n",
       "<style scoped>\n",
       "    .dataframe tbody tr th:only-of-type {\n",
       "        vertical-align: middle;\n",
       "    }\n",
       "\n",
       "    .dataframe tbody tr th {\n",
       "        vertical-align: top;\n",
       "    }\n",
       "\n",
       "    .dataframe thead th {\n",
       "        text-align: right;\n",
       "    }\n",
       "</style>\n",
       "<table border=\"1\" class=\"dataframe\">\n",
       "  <thead>\n",
       "    <tr style=\"text-align: right;\">\n",
       "      <th></th>\n",
       "      <th>user_id</th>\n",
       "      <th>month</th>\n",
       "      <th>duration</th>\n",
       "      <th>calls_number</th>\n",
       "      <th>messages_number</th>\n",
       "      <th>mb_used</th>\n",
       "    </tr>\n",
       "  </thead>\n",
       "  <tbody>\n",
       "    <tr>\n",
       "      <th>0</th>\n",
       "      <td>1000</td>\n",
       "      <td>5</td>\n",
       "      <td>159.0</td>\n",
       "      <td>22.0</td>\n",
       "      <td>22.0</td>\n",
       "      <td>2253.49</td>\n",
       "    </tr>\n",
       "    <tr>\n",
       "      <th>1</th>\n",
       "      <td>1000</td>\n",
       "      <td>6</td>\n",
       "      <td>172.0</td>\n",
       "      <td>43.0</td>\n",
       "      <td>60.0</td>\n",
       "      <td>23233.77</td>\n",
       "    </tr>\n",
       "    <tr>\n",
       "      <th>2</th>\n",
       "      <td>1000</td>\n",
       "      <td>7</td>\n",
       "      <td>340.0</td>\n",
       "      <td>47.0</td>\n",
       "      <td>75.0</td>\n",
       "      <td>14003.64</td>\n",
       "    </tr>\n",
       "    <tr>\n",
       "      <th>3</th>\n",
       "      <td>1000</td>\n",
       "      <td>8</td>\n",
       "      <td>408.0</td>\n",
       "      <td>52.0</td>\n",
       "      <td>81.0</td>\n",
       "      <td>14055.93</td>\n",
       "    </tr>\n",
       "    <tr>\n",
       "      <th>4</th>\n",
       "      <td>1000</td>\n",
       "      <td>9</td>\n",
       "      <td>466.0</td>\n",
       "      <td>58.0</td>\n",
       "      <td>57.0</td>\n",
       "      <td>14568.91</td>\n",
       "    </tr>\n",
       "    <tr>\n",
       "      <th>5</th>\n",
       "      <td>1000</td>\n",
       "      <td>10</td>\n",
       "      <td>350.0</td>\n",
       "      <td>57.0</td>\n",
       "      <td>73.0</td>\n",
       "      <td>14702.49</td>\n",
       "    </tr>\n",
       "    <tr>\n",
       "      <th>6</th>\n",
       "      <td>1000</td>\n",
       "      <td>11</td>\n",
       "      <td>338.0</td>\n",
       "      <td>43.0</td>\n",
       "      <td>58.0</td>\n",
       "      <td>14756.47</td>\n",
       "    </tr>\n",
       "    <tr>\n",
       "      <th>7</th>\n",
       "      <td>1000</td>\n",
       "      <td>12</td>\n",
       "      <td>333.0</td>\n",
       "      <td>46.0</td>\n",
       "      <td>70.0</td>\n",
       "      <td>9817.61</td>\n",
       "    </tr>\n",
       "    <tr>\n",
       "      <th>8</th>\n",
       "      <td>1001</td>\n",
       "      <td>11</td>\n",
       "      <td>430.0</td>\n",
       "      <td>59.0</td>\n",
       "      <td>NaN</td>\n",
       "      <td>18429.34</td>\n",
       "    </tr>\n",
       "    <tr>\n",
       "      <th>9</th>\n",
       "      <td>1001</td>\n",
       "      <td>12</td>\n",
       "      <td>414.0</td>\n",
       "      <td>63.0</td>\n",
       "      <td>NaN</td>\n",
       "      <td>14036.66</td>\n",
       "    </tr>\n",
       "  </tbody>\n",
       "</table>\n",
       "</div>"
      ],
      "text/plain": [
       "   user_id  month  duration  calls_number  messages_number   mb_used\n",
       "0     1000      5     159.0          22.0             22.0   2253.49\n",
       "1     1000      6     172.0          43.0             60.0  23233.77\n",
       "2     1000      7     340.0          47.0             75.0  14003.64\n",
       "3     1000      8     408.0          52.0             81.0  14055.93\n",
       "4     1000      9     466.0          58.0             57.0  14568.91\n",
       "5     1000     10     350.0          57.0             73.0  14702.49\n",
       "6     1000     11     338.0          43.0             58.0  14756.47\n",
       "7     1000     12     333.0          46.0             70.0   9817.61\n",
       "8     1001     11     430.0          59.0              NaN  18429.34\n",
       "9     1001     12     414.0          63.0              NaN  14036.66"
      ]
     },
     "execution_count": 104,
     "metadata": {},
     "output_type": "execute_result"
    }
   ],
   "source": [
    "# создаём сводную таблицу с числом и общей длительностью звонков за каждый месяц по каждому пользователю\n",
    "calls_pivot = calls_df.pivot_table(index=['user_id', 'month'], values='duration', aggfunc=['sum', 'count']).reset_index()\n",
    "calls_pivot.columns = ['user_id', 'month', 'duration', 'calls_number']\n",
    "# создаём сводную таблицу с числом сообщений за каждый месяц по каждому пользователю\n",
    "messages_pivot = messages_df.pivot_table(index=['user_id', 'month'], values='message_date', aggfunc='count').reset_index()\n",
    "messages_pivot.columns = ['user_id', 'month', 'messages_number']\n",
    "# создаём сводную таблицу объёмом интернет-трафика за каждый месяц по каждому пользователю\n",
    "internet_pivot = internet_df.pivot_table(index=['user_id', 'month'], values='mb_used', aggfunc='sum').reset_index()\n",
    "# создаём сборный датафрейм, соединяя три сводные таблицы\n",
    "df = calls_pivot.merge(messages_pivot, on=['user_id', 'month'], how='outer')\n",
    "df = df.merge(internet_pivot, on=['user_id', 'month'], how='outer')\n",
    "# выводим первые 10 строк датафрейма\n",
    "df.head(10)"
   ]
  },
  {
   "cell_type": "code",
   "execution_count": 105,
   "id": "17e0a315",
   "metadata": {},
   "outputs": [],
   "source": [
    "# заполняем пропуски в колонках нового датафрейма нулями\n",
    "df['mb_used'] = df['mb_used'].fillna(0)\n",
    "df['duration'] = df['duration'].fillna(0)\n",
    "df['calls_number'] = df['calls_number'].fillna(0)\n",
    "df['messages_number'] = df['messages_number'].fillna(0)\n",
    "# создаём колонку с объёмом трафика в гигабайтах\n",
    "df['gb_used'] = df['mb_used']/1024\n",
    "# округляем значения в этой колонке в большую сторону\n",
    "df['gb_used'] = np.ceil(df['gb_used'])"
   ]
  },
  {
   "cell_type": "code",
   "execution_count": 106,
   "id": "f198ab8b",
   "metadata": {},
   "outputs": [
    {
     "data": {
      "text/html": [
       "<div>\n",
       "<style scoped>\n",
       "    .dataframe tbody tr th:only-of-type {\n",
       "        vertical-align: middle;\n",
       "    }\n",
       "\n",
       "    .dataframe tbody tr th {\n",
       "        vertical-align: top;\n",
       "    }\n",
       "\n",
       "    .dataframe thead th {\n",
       "        text-align: right;\n",
       "    }\n",
       "</style>\n",
       "<table border=\"1\" class=\"dataframe\">\n",
       "  <thead>\n",
       "    <tr style=\"text-align: right;\">\n",
       "      <th></th>\n",
       "      <th>user_id</th>\n",
       "      <th>month</th>\n",
       "      <th>duration</th>\n",
       "      <th>calls_number</th>\n",
       "      <th>messages_number</th>\n",
       "      <th>mb_used</th>\n",
       "      <th>gb_used</th>\n",
       "      <th>city</th>\n",
       "      <th>tariff</th>\n",
       "    </tr>\n",
       "  </thead>\n",
       "  <tbody>\n",
       "    <tr>\n",
       "      <th>0</th>\n",
       "      <td>1000</td>\n",
       "      <td>5</td>\n",
       "      <td>159.0</td>\n",
       "      <td>22.0</td>\n",
       "      <td>22.0</td>\n",
       "      <td>2253.49</td>\n",
       "      <td>3.0</td>\n",
       "      <td>Краснодар</td>\n",
       "      <td>ultra</td>\n",
       "    </tr>\n",
       "    <tr>\n",
       "      <th>1</th>\n",
       "      <td>1000</td>\n",
       "      <td>6</td>\n",
       "      <td>172.0</td>\n",
       "      <td>43.0</td>\n",
       "      <td>60.0</td>\n",
       "      <td>23233.77</td>\n",
       "      <td>23.0</td>\n",
       "      <td>Краснодар</td>\n",
       "      <td>ultra</td>\n",
       "    </tr>\n",
       "    <tr>\n",
       "      <th>2</th>\n",
       "      <td>1000</td>\n",
       "      <td>7</td>\n",
       "      <td>340.0</td>\n",
       "      <td>47.0</td>\n",
       "      <td>75.0</td>\n",
       "      <td>14003.64</td>\n",
       "      <td>14.0</td>\n",
       "      <td>Краснодар</td>\n",
       "      <td>ultra</td>\n",
       "    </tr>\n",
       "    <tr>\n",
       "      <th>3</th>\n",
       "      <td>1000</td>\n",
       "      <td>8</td>\n",
       "      <td>408.0</td>\n",
       "      <td>52.0</td>\n",
       "      <td>81.0</td>\n",
       "      <td>14055.93</td>\n",
       "      <td>14.0</td>\n",
       "      <td>Краснодар</td>\n",
       "      <td>ultra</td>\n",
       "    </tr>\n",
       "    <tr>\n",
       "      <th>4</th>\n",
       "      <td>1000</td>\n",
       "      <td>9</td>\n",
       "      <td>466.0</td>\n",
       "      <td>58.0</td>\n",
       "      <td>57.0</td>\n",
       "      <td>14568.91</td>\n",
       "      <td>15.0</td>\n",
       "      <td>Краснодар</td>\n",
       "      <td>ultra</td>\n",
       "    </tr>\n",
       "  </tbody>\n",
       "</table>\n",
       "</div>"
      ],
      "text/plain": [
       "   user_id  month  duration  calls_number  messages_number   mb_used  gb_used  \\\n",
       "0     1000      5     159.0          22.0             22.0   2253.49      3.0   \n",
       "1     1000      6     172.0          43.0             60.0  23233.77     23.0   \n",
       "2     1000      7     340.0          47.0             75.0  14003.64     14.0   \n",
       "3     1000      8     408.0          52.0             81.0  14055.93     14.0   \n",
       "4     1000      9     466.0          58.0             57.0  14568.91     15.0   \n",
       "\n",
       "        city tariff  \n",
       "0  Краснодар  ultra  \n",
       "1  Краснодар  ultra  \n",
       "2  Краснодар  ultra  \n",
       "3  Краснодар  ultra  \n",
       "4  Краснодар  ultra  "
      ]
     },
     "execution_count": 106,
     "metadata": {},
     "output_type": "execute_result"
    }
   ],
   "source": [
    "# соединяем наш сводный датафрейм с таблицей, содержащей основную информацию о пользователях\n",
    "df = df.merge(users_df_new, on='user_id', how='inner')\n",
    "# выводим первые 5 строк нового датафрейма\n",
    "df.head()"
   ]
  },
  {
   "cell_type": "code",
   "execution_count": 107,
   "id": "c1d2e5a8",
   "metadata": {},
   "outputs": [
    {
     "data": {
      "text/plain": [
       "(498,)"
      ]
     },
     "execution_count": 107,
     "metadata": {},
     "output_type": "execute_result"
    }
   ],
   "source": [
    "# Комментарий ревьюера\n",
    "df.user_id.unique().shape "
   ]
  },
  {
   "cell_type": "markdown",
   "id": "11faedbf",
   "metadata": {},
   "source": [
    "Посмотрим, куда могли деться два пользователя. Посмотрим, сколько их было вначале в каждой из исходных таблиц:"
   ]
  },
  {
   "cell_type": "code",
   "execution_count": 108,
   "id": "d5afaf10",
   "metadata": {},
   "outputs": [
    {
     "data": {
      "text/plain": [
       "492"
      ]
     },
     "metadata": {},
     "output_type": "display_data"
    },
    {
     "data": {
      "text/plain": [
       "426"
      ]
     },
     "metadata": {},
     "output_type": "display_data"
    },
    {
     "data": {
      "text/plain": [
       "497"
      ]
     },
     "metadata": {},
     "output_type": "display_data"
    },
    {
     "data": {
      "text/plain": [
       "500"
      ]
     },
     "metadata": {},
     "output_type": "display_data"
    }
   ],
   "source": [
    "# находим число уникальных пользователей в каждой из исходных таблиц\n",
    "display(len(calls_df['user_id'].unique())) \n",
    "display(len(messages_df['user_id'].unique()))\n",
    "display(len(internet_df['user_id'].unique()))\n",
    "display(len(users_df_new['user_id'].unique()))"
   ]
  },
  {
   "cell_type": "markdown",
   "id": "1dee3114",
   "metadata": {},
   "source": [
    "В итоговый df попало 498, а в исходных было от 426 до 500. Так как таблицу с информацией о пользователях user_df_new с 500  user_id мы присоединили с how='inner', в итоговый датафрейм не попали те пользователи, которых не было ни в таблице со звонками, ни в таблице с смс, ни с интернет-трафиком. Вносили ли они плату за услуги связи - вопрос. Я предположила бы, что люди подключили тарифы, но не платили и не пользовались услугами связи и не стала бы включать этих пользователей в итоговый датафрейм"
   ]
  },
  {
   "cell_type": "markdown",
   "id": "15524811",
   "metadata": {},
   "source": [
    "По получившейся таблице df уже можем рассчитать, сколько каждый человек отдвал оператору каждый месяц. Для этого сделаем два среза для каждого тарифа:"
   ]
  },
  {
   "cell_type": "code",
   "execution_count": 109,
   "id": "c8319797",
   "metadata": {},
   "outputs": [],
   "source": [
    "# делаем срез с тарифом smart\n",
    "df_smart = df.query('tariff==\"smart\"')\n",
    "# делаем срез с тарифом ultra \n",
    "df_ultra = df.query('tariff==\"ultra\"')"
   ]
  },
  {
   "cell_type": "markdown",
   "id": "78bc60f3",
   "metadata": {},
   "source": [
    "Для расчёта месячных платежей создаём колонки over_duration, over_messages, over_traffic для обоих тарифов, где считаем, сколько пользователи расходовали минут разговора, сообщений и трафика сверх пакета."
   ]
  },
  {
   "cell_type": "code",
   "execution_count": 110,
   "id": "a3116cc3",
   "metadata": {},
   "outputs": [
    {
     "data": {
      "text/html": [
       "<div>\n",
       "<style scoped>\n",
       "    .dataframe tbody tr th:only-of-type {\n",
       "        vertical-align: middle;\n",
       "    }\n",
       "\n",
       "    .dataframe tbody tr th {\n",
       "        vertical-align: top;\n",
       "    }\n",
       "\n",
       "    .dataframe thead th {\n",
       "        text-align: right;\n",
       "    }\n",
       "</style>\n",
       "<table border=\"1\" class=\"dataframe\">\n",
       "  <thead>\n",
       "    <tr style=\"text-align: right;\">\n",
       "      <th></th>\n",
       "      <th>user_id</th>\n",
       "      <th>month</th>\n",
       "      <th>duration</th>\n",
       "      <th>calls_number</th>\n",
       "      <th>messages_number</th>\n",
       "      <th>mb_used</th>\n",
       "      <th>gb_used</th>\n",
       "      <th>city</th>\n",
       "      <th>tariff</th>\n",
       "      <th>over_duration</th>\n",
       "      <th>over_messages</th>\n",
       "      <th>over_traffic</th>\n",
       "      <th>expense</th>\n",
       "    </tr>\n",
       "  </thead>\n",
       "  <tbody>\n",
       "    <tr>\n",
       "      <th>8</th>\n",
       "      <td>1001</td>\n",
       "      <td>11</td>\n",
       "      <td>430.0</td>\n",
       "      <td>59.0</td>\n",
       "      <td>0.0</td>\n",
       "      <td>18429.34</td>\n",
       "      <td>18.0</td>\n",
       "      <td>Москва</td>\n",
       "      <td>smart</td>\n",
       "      <td>0.0</td>\n",
       "      <td>0.0</td>\n",
       "      <td>3.0</td>\n",
       "      <td>1150.0</td>\n",
       "    </tr>\n",
       "    <tr>\n",
       "      <th>9</th>\n",
       "      <td>1001</td>\n",
       "      <td>12</td>\n",
       "      <td>414.0</td>\n",
       "      <td>63.0</td>\n",
       "      <td>0.0</td>\n",
       "      <td>14036.66</td>\n",
       "      <td>14.0</td>\n",
       "      <td>Москва</td>\n",
       "      <td>smart</td>\n",
       "      <td>0.0</td>\n",
       "      <td>0.0</td>\n",
       "      <td>0.0</td>\n",
       "      <td>550.0</td>\n",
       "    </tr>\n",
       "    <tr>\n",
       "      <th>10</th>\n",
       "      <td>1002</td>\n",
       "      <td>6</td>\n",
       "      <td>117.0</td>\n",
       "      <td>15.0</td>\n",
       "      <td>4.0</td>\n",
       "      <td>10856.82</td>\n",
       "      <td>11.0</td>\n",
       "      <td>Стерлитамак</td>\n",
       "      <td>smart</td>\n",
       "      <td>0.0</td>\n",
       "      <td>0.0</td>\n",
       "      <td>0.0</td>\n",
       "      <td>550.0</td>\n",
       "    </tr>\n",
       "    <tr>\n",
       "      <th>11</th>\n",
       "      <td>1002</td>\n",
       "      <td>7</td>\n",
       "      <td>214.0</td>\n",
       "      <td>26.0</td>\n",
       "      <td>11.0</td>\n",
       "      <td>17580.10</td>\n",
       "      <td>18.0</td>\n",
       "      <td>Стерлитамак</td>\n",
       "      <td>smart</td>\n",
       "      <td>0.0</td>\n",
       "      <td>0.0</td>\n",
       "      <td>3.0</td>\n",
       "      <td>1150.0</td>\n",
       "    </tr>\n",
       "    <tr>\n",
       "      <th>12</th>\n",
       "      <td>1002</td>\n",
       "      <td>8</td>\n",
       "      <td>289.0</td>\n",
       "      <td>42.0</td>\n",
       "      <td>13.0</td>\n",
       "      <td>20319.26</td>\n",
       "      <td>20.0</td>\n",
       "      <td>Стерлитамак</td>\n",
       "      <td>smart</td>\n",
       "      <td>0.0</td>\n",
       "      <td>0.0</td>\n",
       "      <td>5.0</td>\n",
       "      <td>1550.0</td>\n",
       "    </tr>\n",
       "  </tbody>\n",
       "</table>\n",
       "</div>"
      ],
      "text/plain": [
       "    user_id  month  duration  calls_number  messages_number   mb_used  \\\n",
       "8      1001     11     430.0          59.0              0.0  18429.34   \n",
       "9      1001     12     414.0          63.0              0.0  14036.66   \n",
       "10     1002      6     117.0          15.0              4.0  10856.82   \n",
       "11     1002      7     214.0          26.0             11.0  17580.10   \n",
       "12     1002      8     289.0          42.0             13.0  20319.26   \n",
       "\n",
       "    gb_used         city tariff  over_duration  over_messages  over_traffic  \\\n",
       "8      18.0       Москва  smart            0.0            0.0           3.0   \n",
       "9      14.0       Москва  smart            0.0            0.0           0.0   \n",
       "10     11.0  Стерлитамак  smart            0.0            0.0           0.0   \n",
       "11     18.0  Стерлитамак  smart            0.0            0.0           3.0   \n",
       "12     20.0  Стерлитамак  smart            0.0            0.0           5.0   \n",
       "\n",
       "    expense  \n",
       "8    1150.0  \n",
       "9     550.0  \n",
       "10    550.0  \n",
       "11   1150.0  \n",
       "12   1550.0  "
      ]
     },
     "execution_count": 110,
     "metadata": {},
     "output_type": "execute_result"
    }
   ],
   "source": [
    "import warnings\n",
    "warnings.filterwarnings('ignore')\n",
    "\n",
    "# считаем количество минут сверх пакета \n",
    "df_smart['over_duration'] = df_smart['duration'] - smart_minutes\n",
    "# отрицательные значения в колонке меняем на нулями\n",
    "df_smart.loc[df_smart.loc[:, 'over_duration'] < 0, 'over_duration'] = 0\n",
    "# считаем количество сообщений сверх пакета \n",
    "df_smart['over_messages'] = df_smart['messages_number'] - smart_messages\n",
    "# отрицательные значения в колонке меняем на нулями\n",
    "df_smart.loc[df_smart.loc[:, 'over_messages'] < 0, 'over_messages'] = 0\n",
    "# считаем объём трафика сверх пакета \n",
    "df_smart['over_traffic'] = df_smart['gb_used'] - smart_gbs\n",
    "# отрицательные значения в колонке меняем на нулями\n",
    "df_smart.loc[df_smart.loc[:, 'over_traffic'] < 0, 'over_traffic'] = 0\n",
    "# считаем траты каждого пользователя за каждый месяц\n",
    "df_smart['expense'] = smart_payment + df_smart['over_duration']*smart_minutes_price +  df_smart['over_messages']*smart_messages_price + df_smart['over_traffic']*smart_gbs_price\n",
    "# выводим первые 5 строк датафрейма\n",
    "df_smart.head()"
   ]
  },
  {
   "cell_type": "code",
   "execution_count": 111,
   "id": "6e680344",
   "metadata": {},
   "outputs": [
    {
     "data": {
      "text/html": [
       "<div>\n",
       "<style scoped>\n",
       "    .dataframe tbody tr th:only-of-type {\n",
       "        vertical-align: middle;\n",
       "    }\n",
       "\n",
       "    .dataframe tbody tr th {\n",
       "        vertical-align: top;\n",
       "    }\n",
       "\n",
       "    .dataframe thead th {\n",
       "        text-align: right;\n",
       "    }\n",
       "</style>\n",
       "<table border=\"1\" class=\"dataframe\">\n",
       "  <thead>\n",
       "    <tr style=\"text-align: right;\">\n",
       "      <th></th>\n",
       "      <th>user_id</th>\n",
       "      <th>month</th>\n",
       "      <th>duration</th>\n",
       "      <th>calls_number</th>\n",
       "      <th>messages_number</th>\n",
       "      <th>mb_used</th>\n",
       "      <th>gb_used</th>\n",
       "      <th>city</th>\n",
       "      <th>tariff</th>\n",
       "      <th>over_duration</th>\n",
       "      <th>over_messages</th>\n",
       "      <th>over_traffic</th>\n",
       "      <th>expense</th>\n",
       "    </tr>\n",
       "  </thead>\n",
       "  <tbody>\n",
       "    <tr>\n",
       "      <th>0</th>\n",
       "      <td>1000</td>\n",
       "      <td>5</td>\n",
       "      <td>159.0</td>\n",
       "      <td>22.0</td>\n",
       "      <td>22.0</td>\n",
       "      <td>2253.49</td>\n",
       "      <td>3.0</td>\n",
       "      <td>Краснодар</td>\n",
       "      <td>ultra</td>\n",
       "      <td>0.0</td>\n",
       "      <td>0.0</td>\n",
       "      <td>0.0</td>\n",
       "      <td>1950.0</td>\n",
       "    </tr>\n",
       "    <tr>\n",
       "      <th>1</th>\n",
       "      <td>1000</td>\n",
       "      <td>6</td>\n",
       "      <td>172.0</td>\n",
       "      <td>43.0</td>\n",
       "      <td>60.0</td>\n",
       "      <td>23233.77</td>\n",
       "      <td>23.0</td>\n",
       "      <td>Краснодар</td>\n",
       "      <td>ultra</td>\n",
       "      <td>0.0</td>\n",
       "      <td>0.0</td>\n",
       "      <td>0.0</td>\n",
       "      <td>1950.0</td>\n",
       "    </tr>\n",
       "    <tr>\n",
       "      <th>2</th>\n",
       "      <td>1000</td>\n",
       "      <td>7</td>\n",
       "      <td>340.0</td>\n",
       "      <td>47.0</td>\n",
       "      <td>75.0</td>\n",
       "      <td>14003.64</td>\n",
       "      <td>14.0</td>\n",
       "      <td>Краснодар</td>\n",
       "      <td>ultra</td>\n",
       "      <td>0.0</td>\n",
       "      <td>0.0</td>\n",
       "      <td>0.0</td>\n",
       "      <td>1950.0</td>\n",
       "    </tr>\n",
       "    <tr>\n",
       "      <th>3</th>\n",
       "      <td>1000</td>\n",
       "      <td>8</td>\n",
       "      <td>408.0</td>\n",
       "      <td>52.0</td>\n",
       "      <td>81.0</td>\n",
       "      <td>14055.93</td>\n",
       "      <td>14.0</td>\n",
       "      <td>Краснодар</td>\n",
       "      <td>ultra</td>\n",
       "      <td>0.0</td>\n",
       "      <td>0.0</td>\n",
       "      <td>0.0</td>\n",
       "      <td>1950.0</td>\n",
       "    </tr>\n",
       "    <tr>\n",
       "      <th>4</th>\n",
       "      <td>1000</td>\n",
       "      <td>9</td>\n",
       "      <td>466.0</td>\n",
       "      <td>58.0</td>\n",
       "      <td>57.0</td>\n",
       "      <td>14568.91</td>\n",
       "      <td>15.0</td>\n",
       "      <td>Краснодар</td>\n",
       "      <td>ultra</td>\n",
       "      <td>0.0</td>\n",
       "      <td>0.0</td>\n",
       "      <td>0.0</td>\n",
       "      <td>1950.0</td>\n",
       "    </tr>\n",
       "  </tbody>\n",
       "</table>\n",
       "</div>"
      ],
      "text/plain": [
       "   user_id  month  duration  calls_number  messages_number   mb_used  gb_used  \\\n",
       "0     1000      5     159.0          22.0             22.0   2253.49      3.0   \n",
       "1     1000      6     172.0          43.0             60.0  23233.77     23.0   \n",
       "2     1000      7     340.0          47.0             75.0  14003.64     14.0   \n",
       "3     1000      8     408.0          52.0             81.0  14055.93     14.0   \n",
       "4     1000      9     466.0          58.0             57.0  14568.91     15.0   \n",
       "\n",
       "        city tariff  over_duration  over_messages  over_traffic  expense  \n",
       "0  Краснодар  ultra            0.0            0.0           0.0   1950.0  \n",
       "1  Краснодар  ultra            0.0            0.0           0.0   1950.0  \n",
       "2  Краснодар  ultra            0.0            0.0           0.0   1950.0  \n",
       "3  Краснодар  ultra            0.0            0.0           0.0   1950.0  \n",
       "4  Краснодар  ultra            0.0            0.0           0.0   1950.0  "
      ]
     },
     "execution_count": 111,
     "metadata": {},
     "output_type": "execute_result"
    }
   ],
   "source": [
    "# считаем количество минут сверх пакета \n",
    "df_ultra['over_duration'] = df_ultra['duration'] - ultra_minutes\n",
    "# отрицательные значения в колонке меняем на нулями\n",
    "df_ultra.loc[df_ultra.loc[:, 'over_duration'] < 0, 'over_duration'] = 0\n",
    "# считаем количество сообщений сверх пакета \n",
    "df_ultra['over_messages'] = df_ultra['messages_number'] - ultra_messages\n",
    "# отрицательные значения в колонке меняем на нулями\n",
    "df_ultra.loc[df_ultra.loc[:, 'over_messages'] < 0, 'over_messages'] = 0\n",
    "# считаем объём трафика сверх пакета \n",
    "df_ultra['over_traffic'] = df_ultra['gb_used'] - ultra_gbs\n",
    "# считаем объём трафика сверх пакета \n",
    "df_ultra.loc[df_ultra.loc[:, 'over_traffic'] < 0, 'over_traffic'] = 0\n",
    "# считаем траты каждого пользователя за каждый месяц\n",
    "df_ultra['expense'] = ultra_payment + df_ultra['over_duration']*ultra_minutes_price +  df_ultra['over_messages']*ultra_messages_price + df_ultra['over_traffic']*ultra_gbs_price\n",
    "# выводим первые 5 строк датафрейма\n",
    "df_ultra.head()"
   ]
  },
  {
   "cell_type": "markdown",
   "id": "891bc381",
   "metadata": {},
   "source": [
    "Итоги предобработки:\n",
    "- во всех таблицах убедились в адекватности данных\n",
    "- во всех таблицах перевели даты в стандартный формат\n",
    "- создали два датафрейма со всей необходимой информацией для пользователей обоих тарифов\n",
    "- для обоих датафреймов рассчитали выручку для всех абонентов за каждый месяц"
   ]
  },
  {
   "cell_type": "markdown",
   "id": "f22515f1",
   "metadata": {},
   "source": [
    "## Анализ данных"
   ]
  },
  {
   "cell_type": "markdown",
   "id": "16918265",
   "metadata": {},
   "source": [
    "### Анализ поведения клиентов"
   ]
  },
  {
   "cell_type": "markdown",
   "id": "8af22f15",
   "metadata": {},
   "source": [
    "Построим распределения количества минут разговоров, количества сообщений, объёма интернет-трафика, расходов за месяц для пользователей тарифов \"Смарт\" и \"Ультра\", также посмотрим на характеристики выборок (среднее, дисперсия, стандартное отклонение и т.д.)"
   ]
  },
  {
   "cell_type": "markdown",
   "id": "e333449b",
   "metadata": {},
   "source": [
    "#### Звонки"
   ]
  },
  {
   "cell_type": "code",
   "execution_count": 112,
   "id": "ca64aadd",
   "metadata": {},
   "outputs": [
    {
     "data": {
      "image/png": "[encoded data removed]",
      "text/plain": [
       "<Figure size 576x360 with 1 Axes>"
      ]
     },
     "metadata": {
      "needs_background": "light"
     },
     "output_type": "display_data"
    },
    {
     "name": "stdout",
     "output_type": "stream",
     "text": [
      "Описание выборки \"Смарт\" count    2229.000000\n",
      "mean      417.934948\n",
      "std       190.313730\n",
      "min         0.000000\n",
      "25%       282.000000\n",
      "50%       422.000000\n",
      "75%       545.000000\n",
      "max      1435.000000\n",
      "Name: duration, dtype: float64\n",
      "Описание выборки \"Ультра\" count     985.000000\n",
      "mean      526.623350\n",
      "std       317.606098\n",
      "min         0.000000\n",
      "25%       284.000000\n",
      "50%       518.000000\n",
      "75%       752.000000\n",
      "max      1673.000000\n",
      "Name: duration, dtype: float64 \n",
      "\n",
      "Месяцев, в которые абоненты не говорили по телефону, \"Смарт\":  8\n",
      "Месяцев, в которые абоненты не говорили по телефону, \"Ультра\":  38 \n",
      "\n",
      "Выборочная дисперсия, \"Смарт\":  36203.066652094654\n",
      "Выборочная дисперсия, \"Ультра\":  100771.22361720211\n"
     ]
    }
   ],
   "source": [
    "# Строим диаграмму распределения количества минут разговоров в месяц\n",
    "df_smart['duration'].plot(kind='hist', bins=100,  figsize=(8, 5), alpha=0.5, label='Смарт', color='blue', \n",
    "                          title='Распределения количества минут разговоров \\n')\n",
    "df_ultra['duration'].plot(kind='hist', bins=100, figsize=(8, 5), alpha=0.5, label='Ультра', color='red')\n",
    "plt.legend()\n",
    "plt.xlabel('Длительность разговоров за месяц, мин')\n",
    "plt.ylabel('Количество')\n",
    "plt.show()\n",
    "\n",
    "# Выводим информацию о выборках\n",
    "print('Описание выборки \"Смарт\"', df_smart['duration'].describe())\n",
    "print('Описание выборки \"Ультра\"', df_ultra['duration'].describe(), '\\n')\n",
    "\n",
    "# Находим число месяцев, когда абоненты не говорили по телефону\n",
    "print('Месяцев, в которые абоненты не говорили по телефону, \"Смарт\": ', df_smart[df_smart['duration']==0]['duration'].count())\n",
    "print('Месяцев, в которые абоненты не говорили по телефону, \"Ультра\": ', df_ultra[df_ultra['duration']==0]['duration'].count(), '\\n')\n",
    "\n",
    "# Находим дисперсию\n",
    "print('Выборочная дисперсия, \"Смарт\": ', np.var(df_smart['duration']))\n",
    "print('Выборочная дисперсия, \"Ультра\": ', np.var(df_ultra['duration']))"
   ]
  },
  {
   "cell_type": "markdown",
   "id": "6660d8bf",
   "metadata": {},
   "source": [
    "На диаграмме видим два на вид приблизительно нормальных распределения (явное отклонение от нормальности - пики в районе 0 мин). У тарифа \"Смарт\" медиана и среднее находятся в районе 420 минут, стандартное отклонение 190 минут. У тарифа \"Ультра\" среднее и медиана в районе 520 минут, разброс заметно больше, чем у \"Смарта\" - стандартное отклонение 317 минут. Большая часть графика \"Ультры\" накладывается на график \"Смарта\"."
   ]
  },
  {
   "cell_type": "markdown",
   "id": "915eac69",
   "metadata": {},
   "source": [
    "#### Сообщения"
   ]
  },
  {
   "cell_type": "code",
   "execution_count": 113,
   "id": "0e41c9e4",
   "metadata": {},
   "outputs": [
    {
     "data": {
      "image/png": "[encoded data removed]",
      "text/plain": [
       "<Figure size 576x360 with 1 Axes>"
      ]
     },
     "metadata": {
      "needs_background": "light"
     },
     "output_type": "display_data"
    },
    {
     "name": "stdout",
     "output_type": "stream",
     "text": [
      "Описание выборки \"Смарт\" count    2229.000000\n",
      "mean       33.384029\n",
      "std        28.227876\n",
      "min         0.000000\n",
      "25%        10.000000\n",
      "50%        28.000000\n",
      "75%        51.000000\n",
      "max       143.000000\n",
      "Name: messages_number, dtype: float64\n",
      "Описание выборки \"Ультра\" count    985.000000\n",
      "mean      49.363452\n",
      "std       47.804457\n",
      "min        0.000000\n",
      "25%        6.000000\n",
      "50%       38.000000\n",
      "75%       79.000000\n",
      "max      224.000000\n",
      "Name: messages_number, dtype: float64 \n",
      "\n",
      "Месяцев, в которые абоненты не отправили ни отдного смс, \"Смарт\":  307\n",
      "Месяцев, в которые абоненты не отправили ни отдного смс, \"Ультра\":  190 \n",
      "\n",
      "Выборочная дисперсия, \"Смарт\":  796.455482917076\n",
      "Выборочная дисперсия, \"Ультра\":  2282.946075394891\n"
     ]
    }
   ],
   "source": [
    "# Строим диаграмму распределения количества сообщений в месяц\n",
    "df_smart['messages_number'].plot(kind='hist', bins=100, figsize=(8, 5), alpha=0.5, label='Смарт', color='blue')\n",
    "df_ultra['messages_number'].plot(kind='hist', bins=100, figsize=(8, 5), alpha=0.5, label='Ультра', color='red',\n",
    "                                 title='Распределения количества сообщений \\n')\n",
    "plt.legend()\n",
    "plt.xlabel('Количество сообщений за месяц')\n",
    "plt.ylabel('Количество')\n",
    "plt.show()\n",
    "\n",
    "# Выводим информацию о выборках\n",
    "print('Описание выборки \"Смарт\"', df_smart['messages_number'].describe())\n",
    "print('Описание выборки \"Ультра\"', df_ultra['messages_number'].describe(), '\\n')\n",
    "\n",
    "# Находим число месяцев, когда абоненты не отправляли смс\n",
    "print('Месяцев, в которые абоненты не отправили ни отдного смс, \"Смарт\": ', df_smart[df_smart['messages_number']==0]['messages_number'].count())\n",
    "print('Месяцев, в которые абоненты не отправили ни отдного смс, \"Ультра\": ', df_ultra[df_ultra['messages_number']==0]['messages_number'].count(), '\\n')\n",
    "\n",
    "# Находим дисперсию\n",
    "print('Выборочная дисперсия, \"Смарт\": ', np.var(df_smart['messages_number']))\n",
    "print('Выборочная дисперсия, \"Ультра\": ', np.var(df_ultra['messages_number']))"
   ]
  },
  {
   "cell_type": "markdown",
   "id": "e8edbe35",
   "metadata": {},
   "source": [
    "Видим два распределения с большим разбросом. У тарифа \"Смарт\" медиана и среднее находятся в районе 30 смс, стандартное отклонение 28 минут. У тарифа \"Ультра\" среднее - 49 смс, медиана - 38 смс, разброс заметно больше из-за скошенности вправо, стандартное отклонение 47 смс. Снова большая часть графика \"Ультры\" накладывается на график \"Смарта\"."
   ]
  },
  {
   "cell_type": "markdown",
   "id": "8ae486d2",
   "metadata": {},
   "source": [
    "#### Интернет-трафик"
   ]
  },
  {
   "cell_type": "code",
   "execution_count": 114,
   "id": "6ef05494",
   "metadata": {},
   "outputs": [
    {
     "data": {
      "image/png": "[encoded data removed]",
      "text/plain": [
       "<Figure size 576x360 with 1 Axes>"
      ]
     },
     "metadata": {
      "needs_background": "light"
     },
     "output_type": "display_data"
    },
    {
     "name": "stdout",
     "output_type": "stream",
     "text": [
      "Описание выборки \"Смарт\" count    2229.000000\n",
      "mean       16.328847\n",
      "std         5.747061\n",
      "min         0.000000\n",
      "25%        13.000000\n",
      "50%        17.000000\n",
      "75%        20.000000\n",
      "max        38.000000\n",
      "Name: gb_used, dtype: float64\n",
      "Описание выборки \"Ультра\" count    985.000000\n",
      "mean      19.494416\n",
      "std        9.853511\n",
      "min        0.000000\n",
      "25%       12.000000\n",
      "50%       19.000000\n",
      "75%       27.000000\n",
      "max       49.000000\n",
      "Name: gb_used, dtype: float64 \n",
      "\n",
      "Месяцев, в которые абоненты не использовали ни одного гигабайта, \"Смарт\":  2\n",
      "Месяцев, в которые абоненты не использовали ни одного гигабайта, \"Ультра\":  11 \n",
      "\n",
      "Выборочная дисперсия, \"Смарт\":  33.01388745483741\n",
      "Выборочная дисперсия, \"Ультра\":  96.99311602978705\n"
     ]
    }
   ],
   "source": [
    "# Строим диаграмму распределения объёма трафика в месяц\n",
    "df_smart['gb_used'].plot(kind='hist', bins=100, figsize=(8, 5), alpha=0.5, label='Смарт', color='blue',\n",
    "                         title='Распределения объёма трафика \\n')\n",
    "df_ultra['gb_used'].plot(kind='hist', bins=100, figsize=(8, 5), alpha=0.5, label='Ультра', color='red')\n",
    "plt.xlabel('Объём трафика за месяц, ГБ')\n",
    "plt.ylabel('Количество')\n",
    "plt.legend()\n",
    "plt.show()\n",
    "\n",
    "# Выводим информацию о выборке\n",
    "print('Описание выборки \"Смарт\"', df_smart['gb_used'].describe())\n",
    "print('Описание выборки \"Ультра\"', df_ultra['gb_used'].describe(), '\\n')\n",
    "\n",
    "# Находим число месяцев, когда абоненты не использовали ни одного гигабайта\n",
    "print('Месяцев, в которые абоненты не использовали ни одного гигабайта, \"Смарт\": ', df_smart[df_smart['gb_used']==0]['gb_used'].count())\n",
    "print('Месяцев, в которые абоненты не использовали ни одного гигабайта, \"Ультра\": ', df_ultra[df_ultra['gb_used']==0]['gb_used'].count(), '\\n')\n",
    "\n",
    "# Находим дисперсию\n",
    "print('Выборочная дисперсия, \"Смарт\": ', np.var(df_smart['gb_used']))\n",
    "print('Выборочная дисперсия, \"Ультра\": ', np.var(df_ultra['gb_used']))"
   ]
  },
  {
   "cell_type": "markdown",
   "id": "662bb6d0",
   "metadata": {},
   "source": [
    "Здесь два почти симметричных нормальных распределения. Среднее и медиана \"Смарта\" в районе 17 ГБ, среднее и медиана \"Ультры\" в районе 19 ГБ. У \"Смарта\" более чёткий пик, стандартное отклонение - почти 6 ГБ, у \"Ультры\" - почти 10 ГБ. Как и раньше, большая часть графика \"Ультры\" накладывается на график \"Смарта\"."
   ]
  },
  {
   "cell_type": "markdown",
   "id": "5436c45a",
   "metadata": {},
   "source": [
    "#### Расходы на связь"
   ]
  },
  {
   "cell_type": "code",
   "execution_count": 115,
   "id": "a79848fc",
   "metadata": {},
   "outputs": [
    {
     "data": {
      "image/png": "[encoded data removed]",
      "text/plain": [
       "<Figure size 576x360 with 1 Axes>"
      ]
     },
     "metadata": {
      "needs_background": "light"
     },
     "output_type": "display_data"
    },
    {
     "name": "stdout",
     "output_type": "stream",
     "text": [
      "Описание выборки \"Смарт\" count    2229.000000\n",
      "mean     1289.973531\n",
      "std       818.404367\n",
      "min       550.000000\n",
      "25%       550.000000\n",
      "50%      1023.000000\n",
      "75%      1750.000000\n",
      "max      6770.000000\n",
      "Name: expense, dtype: float64\n",
      "Описание выборки \"Ультра\" count     985.000000\n",
      "mean     2070.152284\n",
      "std       376.187114\n",
      "min      1950.000000\n",
      "25%      1950.000000\n",
      "50%      1950.000000\n",
      "75%      1950.000000\n",
      "max      4800.000000\n",
      "Name: expense, dtype: float64 \n",
      "\n",
      "Дисперсия, \"Смарт\":  669485.2209234155\n",
      "Дисперсия, \"Ультра\":  141373.07325620213\n"
     ]
    }
   ],
   "source": [
    "# Строим диаграмму распределения расходов на связь в месяц\n",
    "df_smart['expense'].plot(kind='hist', bins=100, figsize=(8, 5), alpha=0.5, label='Смарт', color='blue',\n",
    "                         title='Распределения сумм расходов на связь \\n')\n",
    "df_ultra['expense'].plot(kind='hist', bins=100, figsize=(8, 5), alpha=0.5, label='Ультра', color='red')\n",
    "plt.xlabel('Расходы на связь за месяц, руб.')\n",
    "plt.ylabel('Количество')\n",
    "plt.legend()\n",
    "plt.show()\n",
    "\n",
    "# Выводим информацию о выборке\n",
    "print('Описание выборки \"Смарт\"', df_smart['expense'].describe())\n",
    "print('Описание выборки \"Ультра\"', df_ultra['expense'].describe(), '\\n')\n",
    "\n",
    "# Находим дисперсию\n",
    "print('Дисперсия, \"Смарт\": ', np.var(df_smart['expense']))\n",
    "print('Дисперсия, \"Ультра\": ', np.var(df_ultra['expense']))"
   ]
  },
  {
   "cell_type": "markdown",
   "id": "468a0a90",
   "metadata": {},
   "source": [
    "Здесь для каждого из тарифов мы видим чёткие пики в районе стоимости каждого тарифного плана - 550 руб. и 1950 руб. Также видим, что для тарифа \"Смарт\" значительно больше доля тех, кто платит сверх тарифного плана, меньше среднее, но зато разброс почти в два раза больше, чем у \"Ультры\"."
   ]
  },
  {
   "cell_type": "markdown",
   "id": "feb19159",
   "metadata": {},
   "source": [
    "### Анализ динамики выручки и числа абонентов по месяцам"
   ]
  },
  {
   "cell_type": "markdown",
   "id": "787d37b1",
   "metadata": {},
   "source": [
    "Построим диаграмму зависимости суммарной выручки от месяца для каждого из тарифов."
   ]
  },
  {
   "cell_type": "code",
   "execution_count": 116,
   "id": "f1a4d9a6",
   "metadata": {},
   "outputs": [
    {
     "data": {
      "image/png": "[encoded data removed]",
      "text/plain": [
       "<Figure size 576x360 with 1 Axes>"
      ]
     },
     "metadata": {
      "needs_background": "light"
     },
     "output_type": "display_data"
    }
   ],
   "source": [
    "# Строим диграмму зависимости суммарной выручки от месяца для обоих тарифов\n",
    "df_smart.groupby('month')['expense'].sum().plot.bar(figsize=(8, 5), color='blue', alpha=0.5, label='Смарт')\n",
    "df_ultra.groupby('month')['expense'].sum().plot.bar(figsize=(8, 5), color='red', alpha=0.5, label='Ультра')\n",
    "plt.title('Динамика выручки по месяцам \\n')\n",
    "plt.legend()\n",
    "plt.xlabel('Месяц')\n",
    "plt.ylabel('Выручка, руб.')\n",
    "plt.show()"
   ]
  },
  {
   "cell_type": "markdown",
   "id": "cc6131c8",
   "metadata": {},
   "source": [
    "На диаграмме видно, что с 5 месяца \"Смарт\" стабильно обгоняет \"Ультру\" по выручке и в целом растёт более стремительно. \n",
    "\n",
    "Можно попробовать объяснить лидирование \"Смарта\" более резким увеличением числа абонентов со временем. Посмотрим на динамику числа абонентов: "
   ]
  },
  {
   "cell_type": "code",
   "execution_count": 117,
   "id": "8876c083",
   "metadata": {},
   "outputs": [
    {
     "data": {
      "image/png": "[encoded data removed]",
      "text/plain": [
       "<Figure size 576x360 with 1 Axes>"
      ]
     },
     "metadata": {
      "needs_background": "light"
     },
     "output_type": "display_data"
    }
   ],
   "source": [
    "# Строим диграмму зависимости числа абонентов от месяца для обоих тарифов\n",
    "df_smart.groupby('month')['user_id'].count().plot.bar(figsize=(8, 5), color='blue', alpha=0.5, label='Смарт')\n",
    "df_ultra.groupby('month')['user_id'].count().plot.bar(figsize=(8, 5), color='red', alpha=0.5, label='Ультра')\n",
    "plt.title('Динамика числа абонентов по месяцам \\n')\n",
    "plt.legend()\n",
    "plt.xlabel('Месяц')\n",
    "plt.ylabel('Число абонентов')\n",
    "plt.show()"
   ]
  },
  {
   "cell_type": "markdown",
   "id": "108f6f71",
   "metadata": {},
   "source": [
    "Действительно, люди заметно охотнее подключат тариф \"Смарт\". Интересно, как обстоит дело со средним значением выручки по абонентам в месяц:"
   ]
  },
  {
   "cell_type": "code",
   "execution_count": 118,
   "id": "ba37a58e",
   "metadata": {},
   "outputs": [
    {
     "data": {
      "image/png": "[encoded data removed]",
      "text/plain": [
       "<Figure size 576x360 with 1 Axes>"
      ]
     },
     "metadata": {
      "needs_background": "light"
     },
     "output_type": "display_data"
    }
   ],
   "source": [
    "# Строим диграмму средней выручки по абонентам для обоих тарифов\n",
    "df_smart.groupby('month')['expense'].mean().plot.bar(figsize=(8, 5), color='blue', alpha=1, label='Смарт')\n",
    "df_ultra.groupby('month')['expense'].mean().plot.bar(figsize=(8, 5), color='red', alpha=0.3, label='Ультра')\n",
    "plt.title('Динамика средней выручки по абонентам в месяц \\n')\n",
    "plt.legend()\n",
    "plt.xlabel('Месяц')\n",
    "plt.ylabel('Средняя выручка по абонентам, руб.')\n",
    "plt.show()"
   ]
  },
  {
   "cell_type": "markdown",
   "id": "1bc539d0",
   "metadata": {},
   "source": [
    "Средняя выручка \"Ультры\" на всём отрезке больше, чем у \"Смарта\", однако в первом случае мы видим весьма незначительные колебания в районе 2000 рублей, а во втором случае плавный рост с увеличением среднего в 2 раза за 12 месяцев - примерно от 750 до 1500 рублей."
   ]
  },
  {
   "cell_type": "markdown",
   "id": "dcfd87e2",
   "metadata": {},
   "source": [
    "### Проверка статистических гипотез"
   ]
  },
  {
   "cell_type": "markdown",
   "id": "e8226f23",
   "metadata": {},
   "source": [
    "Сначала предстоит исследовать равенство выручки пользователей двух тарифов.\n",
    "\n",
    "Нулевая гипотеза: средние выручки пользователей тарифов «Ультра» и «Смарт» равны.\n",
    "\n",
    "Альтернативная гипотеза: средние выручки пользователей тарифов «Ультра» и «Смарт» не равны."
   ]
  },
  {
   "cell_type": "code",
   "execution_count": 119,
   "id": "e6363d28",
   "metadata": {},
   "outputs": [
    {
     "data": {
      "text/plain": [
       "141373.07325620213"
      ]
     },
     "metadata": {},
     "output_type": "display_data"
    },
    {
     "data": {
      "text/plain": [
       "669485.2209234155"
      ]
     },
     "metadata": {},
     "output_type": "display_data"
    },
    {
     "name": "stdout",
     "output_type": "stream",
     "text": [
      "p-значение:  4.2606313931076085e-250\n",
      "Отвергаем нулевую гипотезу\n"
     ]
    }
   ],
   "source": [
    "# находим дисперсию обеих выборок\n",
    "display(np.var(df_ultra['expense']))\n",
    "display(np.var(df_smart['expense']))\n",
    "# проверка гипотезы о равенстве среднего двух генеральных совокупностей по взятым из них выборкам\n",
    "alpha = .05\n",
    "results = st.ttest_ind(df_ultra['expense'], df_smart['expense'], equal_var = False)\n",
    "print('p-значение: ', results.pvalue)\n",
    "if results.pvalue < alpha:\n",
    "    print('Отвергаем нулевую гипотезу')\n",
    "else:\n",
    "    print('Не получилось отвергнуть нулевую гипотезу')"
   ]
  },
  {
   "cell_type": "markdown",
   "id": "3c470a66",
   "metadata": {},
   "source": [
    "Исходя из результатов статистической проверки, можем утверждать, что средние двух генеральных совокупностей отличаются. Найдём средние двух выборок:"
   ]
  },
  {
   "cell_type": "code",
   "execution_count": 120,
   "id": "0b1e30ac",
   "metadata": {},
   "outputs": [
    {
     "name": "stdout",
     "output_type": "stream",
     "text": [
      "Пользователи тарифа \"Ультра\" в месяц в среднем тратят 2070.1522842639592\n",
      "Пользователи тарифа \"Смарт\" в месяц в среднем тратят 1289.9735307312696\n"
     ]
    }
   ],
   "source": [
    "print('Пользователи тарифа \"Ультра\" в месяц в среднем тратят', df_ultra['expense'].mean())\n",
    "print('Пользователи тарифа \"Смарт\" в месяц в среднем тратят', df_smart['expense'].mean())"
   ]
  },
  {
   "cell_type": "markdown",
   "id": "b0321b38",
   "metadata": {},
   "source": [
    "Теперь исследуем равенство выручки пользователей из Москвы и из других городов. Но сначала соберём соответствующие датасеты.\n",
    "\n",
    "Нулевая гипотеза: средние выручки пользователей из Москвы и из других городов равны.\n",
    "\n",
    "Альтернативная гипотеза: выручки пользователей из Москвы и из других городов не равны."
   ]
  },
  {
   "cell_type": "code",
   "execution_count": 121,
   "id": "57c9cdf6",
   "metadata": {},
   "outputs": [],
   "source": [
    "# создаём датасеты\n",
    "moscow_users = df_ultra[df_ultra['city']=='Москва']['expense'].tolist() + df_smart[df_smart['city']=='Москва']['expense'].tolist()\n",
    "other_users = df_ultra[df_ultra['city']!='Москва']['expense'].tolist() + df_smart[df_smart['city']!='Москва']['expense'].tolist()"
   ]
  },
  {
   "cell_type": "code",
   "execution_count": 122,
   "id": "8a9a1ea1",
   "metadata": {},
   "outputs": [
    {
     "data": {
      "text/plain": [
       "564710.7117467293"
      ]
     },
     "metadata": {},
     "output_type": "display_data"
    },
    {
     "data": {
      "text/plain": [
       "653886.3270894091"
      ]
     },
     "metadata": {},
     "output_type": "display_data"
    },
    {
     "name": "stdout",
     "output_type": "stream",
     "text": [
      "p-значение:  0.5440152911670224\n",
      "Не получилось отвергнуть нулевую гипотезу\n"
     ]
    }
   ],
   "source": [
    "# находим дисперсию обеих выборок\n",
    "display(np.var(pd.Series(moscow_users)))\n",
    "display(np.var(pd.Series(other_users)))\n",
    "# проверка гипотезы о равенстве среднего двух генеральных совокупностей по взятым из них выборкам\n",
    "alpha = .05\n",
    "results = st.ttest_ind(moscow_users, other_users)\n",
    "print('p-значение: ', results.pvalue)\n",
    "if results.pvalue < alpha:\n",
    "    print('Отвергаем нулевую гипотезу')\n",
    "else:\n",
    "    print('Не получилось отвергнуть нулевую гипотезу')"
   ]
  },
  {
   "cell_type": "markdown",
   "id": "83ffdf77",
   "metadata": {},
   "source": [
    "Найдём среднее двух выборок:"
   ]
  },
  {
   "cell_type": "code",
   "execution_count": 123,
   "id": "58f90768",
   "metadata": {},
   "outputs": [
    {
     "name": "stdout",
     "output_type": "stream",
     "text": [
      "Польватели из Москвы в месяц в среднем тратят 1546.7135842880523\n",
      "Польватели из остальных городов в месяц в среднем тратят 1524.9362274298885\n"
     ]
    }
   ],
   "source": [
    "# создаём функцию, которая будет считать среднее значения из списка\n",
    "def avrg(lst):\n",
    "    return sum(lst) / len(lst)\n",
    "\n",
    "# выводим средние значения\n",
    "print('Польватели из Москвы в месяц в среднем тратят', avrg(moscow_users))\n",
    "print('Польватели из остальных городов в месяц в среднем тратят', avrg(other_users))"
   ]
  },
  {
   "cell_type": "markdown",
   "id": "1591097b",
   "metadata": {},
   "source": [
    "Действительно, получили довольно близкие значения."
   ]
  },
  {
   "cell_type": "markdown",
   "id": "58430327",
   "metadata": {},
   "source": [
    "Нулевая гипотеза должна содержать знак равенства, поэтому в обоих случаях она была сформулирована как утверждение о равенстве средних двух генеральных совокупностей. Альтернативная гипотеза должна противоречить нулевой, поэтому в обоих случаях она была сформулирована как утверждение о неравенстве.\n",
    "\n",
    "Для проверки гипотез использовали t-критерий Стьюдента, т.к. именно его принято использовать для проверки такого рода гипотез. Параметр equal_var принимал значение True, если предварительно найденные дисперсии были близки, False - если сильно отличались. "
   ]
  },
  {
   "cell_type": "markdown",
   "id": "5b1ff6f0",
   "metadata": {},
   "source": [
    "## Выводы:\n",
    " - в плане расхода минут, смс и гигабайтов поведение абонентов тарифа \"Смарт\" отличается меньшим средним и меньшим разбросом по сравнению с поведением абонентов \"Ультры\";\n",
    " - выручка от абонентов \"Смарта\", наоборот, отличатся большим разбросом, тогда как большенство абонентов \"Ультры\" платит только абонентскую плату;\n",
    " - с одной стороны, средняя месячная выручка в пределах 2018 года у абонентов \"Ультры\" выше, чем у абонентов \"Смарта\" - 2070 и 1290 рублей соответственно;\n",
    " - с другой стороны, динамика по месяцам показывает, что суммарная месячная выручка от \"Смарта\" в мае обогнала выручку от \"Ультры\" и с тех пор растёт более стремительными темпами. Этот рост объясняется как более резким ростом числа абонентов \"Смарта\", так и плавным ростом средней по абонентам выручки за каждый месяц, тогда как средняя выручка абонентов \"Ультры\" меняется очень слабо. Следовательно, именно тариф \"Смарт\" стоит продвигать, т.к. он приносит больше денег и показывает лучшую динамику;\n",
    " - в среднем абоненты из Москвы тратят на связь примерно столько же, сколько абоненты из других городов - порядка 1500 рублей."
   ]
  }
 ],
 "metadata": {
  "ExecuteTimeLog": [
   {
    "duration": 1150,
    "start_time": "2022-05-13T23:13:32.806Z"
   },
   {
    "duration": 400,
    "start_time": "2022-05-13T23:13:33.958Z"
   },
   {
    "duration": 13,
    "start_time": "2022-05-13T23:13:34.360Z"
   },
   {
    "duration": 27,
    "start_time": "2022-05-13T23:13:34.375Z"
   },
   {
    "duration": 37,
    "start_time": "2022-05-13T23:13:34.405Z"
   },
   {
    "duration": 19,
    "start_time": "2022-05-13T23:13:34.444Z"
   },
   {
    "duration": 76,
    "start_time": "2022-05-13T23:13:34.464Z"
   },
   {
    "duration": 127,
    "start_time": "2022-05-13T23:13:34.541Z"
   },
   {
    "duration": 5,
    "start_time": "2022-05-13T23:13:34.669Z"
   },
   {
    "duration": 6,
    "start_time": "2022-05-13T23:13:34.687Z"
   },
   {
    "duration": 13,
    "start_time": "2022-05-13T23:13:34.694Z"
   },
   {
    "duration": 27,
    "start_time": "2022-05-13T23:13:34.708Z"
   },
   {
    "duration": 95,
    "start_time": "2022-05-13T23:13:34.737Z"
   },
   {
    "duration": 24,
    "start_time": "2022-05-13T23:13:34.836Z"
   },
   {
    "duration": 5,
    "start_time": "2022-05-13T23:13:34.862Z"
   },
   {
    "duration": 21,
    "start_time": "2022-05-13T23:13:34.868Z"
   },
   {
    "duration": 21,
    "start_time": "2022-05-13T23:13:34.891Z"
   },
   {
    "duration": 13,
    "start_time": "2022-05-13T23:13:34.915Z"
   },
   {
    "duration": 9,
    "start_time": "2022-05-13T23:13:34.930Z"
   },
   {
    "duration": 52,
    "start_time": "2022-05-13T23:13:34.941Z"
   },
   {
    "duration": 63,
    "start_time": "2022-05-13T23:13:34.995Z"
   },
   {
    "duration": 37,
    "start_time": "2022-05-13T23:13:35.060Z"
   },
   {
    "duration": 9,
    "start_time": "2022-05-13T23:13:35.099Z"
   },
   {
    "duration": 14,
    "start_time": "2022-05-13T23:13:35.110Z"
   },
   {
    "duration": 19,
    "start_time": "2022-05-13T23:13:35.126Z"
   },
   {
    "duration": 17,
    "start_time": "2022-05-13T23:13:35.147Z"
   },
   {
    "duration": 13,
    "start_time": "2022-05-13T23:13:35.165Z"
   },
   {
    "duration": 9,
    "start_time": "2022-05-13T23:13:35.189Z"
   },
   {
    "duration": 16,
    "start_time": "2022-05-13T23:13:35.199Z"
   },
   {
    "duration": 8,
    "start_time": "2022-05-13T23:13:35.217Z"
   },
   {
    "duration": 8,
    "start_time": "2022-05-13T23:13:35.227Z"
   },
   {
    "duration": 12,
    "start_time": "2022-05-13T23:13:35.236Z"
   },
   {
    "duration": 79,
    "start_time": "2022-05-13T23:13:35.250Z"
   },
   {
    "duration": 125,
    "start_time": "2022-05-13T23:13:35.331Z"
   },
   {
    "duration": 8,
    "start_time": "2022-05-13T23:13:35.458Z"
   },
   {
    "duration": 46,
    "start_time": "2022-05-13T23:13:35.468Z"
   },
   {
    "duration": 19,
    "start_time": "2022-05-13T23:13:35.516Z"
   },
   {
    "duration": 26,
    "start_time": "2022-05-13T23:13:35.537Z"
   },
   {
    "duration": 24,
    "start_time": "2022-05-13T23:13:35.564Z"
   },
   {
    "duration": 282,
    "start_time": "2022-05-13T23:13:35.590Z"
   },
   {
    "duration": 267,
    "start_time": "2022-05-13T23:13:35.876Z"
   },
   {
    "duration": 257,
    "start_time": "2022-05-13T23:13:36.145Z"
   },
   {
    "duration": 33,
    "start_time": "2022-05-13T23:13:36.405Z"
   },
   {
    "duration": 284,
    "start_time": "2022-05-13T23:13:36.440Z"
   },
   {
    "duration": 368,
    "start_time": "2022-05-13T23:13:36.726Z"
   },
   {
    "duration": 264,
    "start_time": "2022-05-13T23:13:37.096Z"
   },
   {
    "duration": 41,
    "start_time": "2022-05-13T23:13:37.362Z"
   },
   {
    "duration": 10,
    "start_time": "2022-05-13T23:13:37.405Z"
   },
   {
    "duration": 7,
    "start_time": "2022-05-13T23:13:37.417Z"
   },
   {
    "duration": 9,
    "start_time": "2022-05-13T23:13:37.425Z"
   },
   {
    "duration": 10,
    "start_time": "2022-05-13T23:13:37.435Z"
   },
   {
    "duration": 4,
    "start_time": "2022-05-13T23:21:59.731Z"
   }
  ],
  "kernelspec": {
   "display_name": "Python 3 (ipykernel)",
   "language": "python",
   "name": "python3"
  },
  "language_info": {
   "codemirror_mode": {
    "name": "ipython",
    "version": 3
   },
   "file_extension": ".py",
   "mimetype": "text/x-python",
   "name": "python",
   "nbconvert_exporter": "python",
   "pygments_lexer": "ipython3",
   "version": "3.9.7"
  },
  "toc": {
   "base_numbering": 1,
   "nav_menu": {},
   "number_sections": true,
   "sideBar": true,
   "skip_h1_title": true,
   "title_cell": "Table of Contents",
   "title_sidebar": "Contents",
   "toc_cell": false,
   "toc_position": {
    "height": "calc(100% - 180px)",
    "left": "10px",
    "top": "150px",
    "width": "175.682px"
   },
   "toc_section_display": true,
   "toc_window_display": true
  }
 },
 "nbformat": 4,
 "nbformat_minor": 5
}
